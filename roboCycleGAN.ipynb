{
 "cells": [
  {
   "cell_type": "code",
   "execution_count": 1,
   "metadata": {},
   "outputs": [
    {
     "name": "stdout",
     "output_type": "stream",
     "text": [
      "/Users/janine/anaconda3/envs/GANProject/bin/python\n"
     ]
    },
    {
     "data": {
      "text/plain": [
       "'1.13.1'"
      ]
     },
     "execution_count": 1,
     "metadata": {},
     "output_type": "execute_result"
    }
   ],
   "source": [
    "import tensorflow as tf\n",
    "import tensorflow.feature_column as fc \n",
    "\n",
    "import os\n",
    "import sys\n",
    "import time\n",
    "import pandas as pd\n",
    "\n",
    "import matplotlib.pyplot as plt\n",
    "import numpy as np\n",
    "from tensorflow import keras\n",
    "from tensorflow.keras import layers\n",
    "from IPython.display import clear_output\n",
    "from robot import computeRobotData, drawRobotArm, plotRobotDistribution, computeY\n",
    "\n",
    "\n",
    "\n",
    "#tf.enable_eager_execution()\n",
    "root_logdir = \"./tf_logs\"\n",
    "\n",
    "# For output stability across multiple runs of the notebook\n",
    "np.random.seed(42)\n",
    "\n",
    "# To plot pretty figures\n",
    "%matplotlib inline\n",
    "import matplotlib\n",
    "import matplotlib.pyplot as plt\n",
    "plt.rcParams['axes.labelsize'] = 14\n",
    "plt.rcParams['xtick.labelsize'] = 12\n",
    "plt.rcParams['ytick.labelsize'] = 12\n",
    "\n",
    "print(sys.executable)\n",
    "\n",
    "def shuffle_batch(X, batch_size):\n",
    "    # Shuffle the indices\n",
    "    rnd_idx = np.random.permutation(len(X))\n",
    "    n_batches = len(X) // batch_size\n",
    "    \n",
    "    # Split the index array into the number of batches\n",
    "    # Get the list of indexs per batch\n",
    "    # and yield the values when asked\n",
    "    for batch_idxs in np.array_split(rnd_idx, n_batches):\n",
    "        X_batch = X[batch_idxs]\n",
    "        yield X_batch\n",
    "\n",
    "# To make this notebook's output stable across runs\n",
    "def reset_graph(seed=42):\n",
    "    tf.reset_default_graph()\n",
    "    tf.set_random_seed(seed)\n",
    "    np.random.seed(seed)\n",
    "\n",
    "tf.__version__"
   ]
  },
  {
   "cell_type": "code",
   "execution_count": 2,
   "metadata": {},
   "outputs": [
    {
     "data": {
      "text/plain": [
       "<matplotlib.collections.PathCollection at 0xb2a819780>"
      ]
     },
     "execution_count": 2,
     "metadata": {},
     "output_type": "execute_result"
    },
    {
     "data": {
      "image/png": "[encoded data removed]",
      "text/plain": [
       "<Figure size 432x288 with 1 Axes>"
      ]
     },
     "metadata": {
      "needs_background": "light"
     },
     "output_type": "display_data"
    }
   ],
   "source": [
    "# Funcs to generate data\n",
    "def y(x,sign=1):\n",
    "    return x*x\n",
    "\n",
    "# Data ranging from x = -0.5 to 0.5\n",
    "def sample_data(n=10000, scale=100):\n",
    "    data1 = []\n",
    "    data2 = []\n",
    "    \n",
    "    x = scale*(np.random.random_sample((n,))-0.5)\n",
    "\n",
    "    for i in range(n):\n",
    "        yi = y(x[i])\n",
    "        y2i = -yi\n",
    "        data1.append([x[i], yi])\n",
    "        data2.append([x[i], y2i])\n",
    "        \n",
    "    return np.float32(np.array(data1)), np.float32(np.array(data2))\n",
    "\n",
    "nSamples = 20000\n",
    "X1, X2 = sample_data(n=nSamples,scale=2)\n",
    "train_data = np.concatenate([X1,X2],axis=1)\n",
    "plt.scatter(X1[:,0], X1[:,1])\n",
    "# plt.show()\n",
    "plt.scatter(X2[:,0], X2[:,1])"
   ]
  },
  {
   "cell_type": "code",
   "execution_count": 3,
   "metadata": {},
   "outputs": [
    {
     "name": "stdout",
     "output_type": "stream",
     "text": [
      "(20000, 2)\n",
      "(20000, 2)\n",
      "(20000, 2)\n",
      "(20000, 10)\n",
      "(20000, 10)\n",
      "2\n",
      "1\n",
      "0\n"
     ]
    },
    {
     "data": {
      "image/png": "[encoded data removed]",
      "text/plain": [
       "<Figure size 432x288 with 1 Axes>"
      ]
     },
     "metadata": {
      "needs_background": "light"
     },
     "output_type": "display_data"
    },
    {
     "data": {
      "image/png": "[encoded data removed]",
      "text/plain": [
       "<Figure size 432x288 with 1 Axes>"
      ]
     },
     "metadata": {
      "needs_background": "light"
     },
     "output_type": "display_data"
    }
   ],
   "source": [
    "nrLinks1 = 2\n",
    "lengths1 = [2,1]\n",
    "nrLinks2 = 2\n",
    "lengths2 = [2,0.8]\n",
    "nrSamples = 20000\n",
    "xr1, yr1 = computeRobotData([-np.pi/2, np.pi/2], nrLinks1, lengths1, nrSamples)\n",
    "xr1Test, yr1Test = computeRobotData([-np.pi/2, np.pi/2], 2, [2,1], nrSamples)\n",
    "xr2, yr2 = computeRobotData([-np.pi/2, np.pi/2], nrLinks2, lengths2, nrSamples)\n",
    "r1=np.concatenate([xr1,yr1], axis=1)\n",
    "r2=np.concatenate([xr2,yr2], axis=1)\n",
    "print(r1.shape)\n",
    "print(r2.shape)\n",
    "drawRobotArm(yr1[1,:4])\n",
    "plt.figure()\n",
    "plotRobotDistribution(yr1[:,:4])\n",
    "train_data = np.concatenate([r1,r2], axis=1)"
   ]
  },
  {
   "cell_type": "code",
   "execution_count": 4,
   "metadata": {},
   "outputs": [
    {
     "name": "stdout",
     "output_type": "stream",
     "text": [
      "WARNING:tensorflow:From /Users/janine/anaconda3/envs/GANProject/lib/python3.6/site-packages/tensorflow/python/ops/resource_variable_ops.py:435: colocate_with (from tensorflow.python.framework.ops) is deprecated and will be removed in a future version.\n",
      "Instructions for updating:\n",
      "Colocations handled automatically by placer.\n"
     ]
    }
   ],
   "source": [
    "from model import RoboGAN\n",
    "\n",
    "reset_graph()\n",
    "\n",
    "sess = tf.Session()\n",
    "\n",
    "#nDimX = X1.shape[1]\n",
    "#nDimY = X2.shape[1]\n",
    "nDimX = r1.shape[1]\n",
    "nDimY = r2.shape[1]\n",
    "\n",
    "GAN = RoboGAN(nDimX, nDimY)\n",
    "\n",
    "G = GAN.G\n",
    "D_Y = GAN.D_Y\n",
    "F = GAN.F\n",
    "D_X = GAN.D_X\n",
    "\n",
    "# Getting placeholders\n",
    "X = GAN.X\n",
    "Y = GAN.Y"
   ]
  },
  {
   "cell_type": "code",
   "execution_count": null,
   "metadata": {},
   "outputs": [
    {
     "name": "stdout",
     "output_type": "stream",
     "text": [
      "WARNING:tensorflow:From /Users/janine/anaconda3/envs/GANProject/lib/python3.6/site-packages/tensorflow/python/keras/utils/losses_utils.py:170: to_float (from tensorflow.python.ops.math_ops) is deprecated and will be removed in a future version.\n",
      "Instructions for updating:\n",
      "Use tf.cast instead.\n",
      "WARNING:tensorflow:From /Users/janine/anaconda3/envs/GANProject/lib/python3.6/site-packages/tensorflow/python/ops/math_ops.py:3066: to_int32 (from tensorflow.python.ops.math_ops) is deprecated and will be removed in a future version.\n",
      "Instructions for updating:\n",
      "Use tf.cast instead.\n"
     ]
    }
   ],
   "source": [
    "from train import train_step\n",
    "\n",
    "losses, gradients, trainers, summary_op = train_step(GAN)"
   ]
  },
  {
   "cell_type": "code",
   "execution_count": null,
   "metadata": {},
   "outputs": [],
   "source": [
    "# Unpacking losses and gradients from training step output\n",
    "G_loss, F_loss, D_Y_loss, D_X_loss = losses\n",
    "G_gradients, F_gradients, D_Y_gradients, D_X_gradients = gradients\n",
    "train_G, train_F, train_D_Y, train_D_X = trainers"
   ]
  },
  {
   "cell_type": "markdown",
   "metadata": {},
   "source": [
    "## Running the training via a tensorflow session\n",
    "> Generators will be trained first"
   ]
  },
  {
   "cell_type": "code",
   "execution_count": null,
   "metadata": {},
   "outputs": [
    {
     "name": "stdout",
     "output_type": "stream",
     "text": [
      "Epoch 0: GLoss:5.0637, FLoss:5.1779, DXLoss:0.4249, DYLoss:0.4370\n",
      "Epoch 1: GLoss:3.4883, FLoss:3.7532, DXLoss:0.3750, DYLoss:0.5191\n",
      "Epoch 2: GLoss:2.9017, FLoss:2.9833, DXLoss:0.5783, DYLoss:0.6156\n",
      "Epoch 3: GLoss:2.6357, FLoss:2.6319, DXLoss:0.5360, DYLoss:0.5326\n",
      "Epoch 4: GLoss:2.3958, FLoss:2.4582, DXLoss:0.5425, DYLoss:0.5518\n",
      "Epoch 5: GLoss:2.2875, FLoss:2.3502, DXLoss:0.5685, DYLoss:0.5681\n",
      "Epoch 6: GLoss:2.1694, FLoss:2.2072, DXLoss:0.5642, DYLoss:0.5930\n",
      "Epoch 7: GLoss:2.1373, FLoss:2.1904, DXLoss:0.5546, DYLoss:0.6167\n",
      "Epoch 8: GLoss:1.8999, FLoss:1.9695, DXLoss:0.5437, DYLoss:0.5967\n",
      "Epoch 9: GLoss:1.9056, FLoss:1.9237, DXLoss:0.5446, DYLoss:0.5761\n",
      "Epoch 10: GLoss:1.8125, FLoss:1.8123, DXLoss:0.5602, DYLoss:0.5729\n",
      "Epoch 11: GLoss:1.9104, FLoss:1.8538, DXLoss:0.5304, DYLoss:0.5558\n",
      "Epoch 12: GLoss:1.8211, FLoss:1.8730, DXLoss:0.5364, DYLoss:0.5614\n",
      "Epoch 13: GLoss:1.8660, FLoss:1.8304, DXLoss:0.5553, DYLoss:0.5585\n"
     ]
    }
   ],
   "source": [
    "sess =  tf.Session()\n",
    "sess.run(tf.global_variables_initializer())\n",
    "\n",
    "# Delete exisiting events file\n",
    "for file in os.listdir(root_logdir):\n",
    "    os.remove(root_logdir+\"/\"+file)\n",
    "\n",
    "train_writer = tf.summary.FileWriter(root_logdir, tf.get_default_graph())\n",
    "\n",
    "start_time = time.time()\n",
    "batch_size = 100\n",
    "n_batches = nSamples / batch_size\n",
    "\n",
    "for epoch in range(100):\n",
    "    for batch_index, batch in enumerate(shuffle_batch(train_data, batch_size)):\n",
    "        X_batch = batch[:,:nDimX]\n",
    "        Y_batch = batch[:,nDimX:]\n",
    "        \n",
    "        \n",
    "        # Training Generators G and F first w/ cycle consistency\n",
    "        Gloss, Floss, _,_ = sess.run([G_loss, F_loss, train_G, train_F],\n",
    "                                     feed_dict={X:X_batch, Y:Y_batch})\n",
    "        \n",
    "        # Optimizing Discriminators D_X and D_Y\n",
    "        D_Xloss, D_Yloss, _,_, summary = sess.run([D_X_loss, D_Y_loss, train_D_X, train_D_Y, summary_op],\n",
    "                                         feed_dict={X: X_batch, Y: Y_batch})\n",
    "        \n",
    "        step = epoch * n_batches + batch_index \n",
    "        if step % 100 == 0:\n",
    "            train_writer.add_summary(summary, step)\n",
    "#         train_writer.flush()\n",
    "    \n",
    "    print(\"Epoch {}: GLoss:{:.4f}, FLoss:{:.4f}, DXLoss:{:.4f}, DYLoss:{:.4f}\".format(epoch,Gloss,Floss,D_Xloss,D_Yloss))\n",
    "\n",
    "print(\"Runtime: {:.3f}s\".format(time.time()-start_time))\n",
    "train_writer.close()"
   ]
  },
  {
   "cell_type": "code",
   "execution_count": null,
   "metadata": {},
   "outputs": [],
   "source": [
    "test_data1 = np.concatenate([xr1Test,yr1Test], axis=1)\n",
    "#test_data1 = np.concatenate([xr2Test,yr2Test], axis=1)\n",
    "generated=sess.run([G(X)], feed_dict={X: test_data1[:20000]})\n",
    "generated = generated[0]\n",
    "\n",
    "def endEffectorDist(set1, set2):\n",
    "    \n",
    "    endeff1 = set1[:,nrLinks1*4-2:nrLinks1*4]\n",
    "    endeff2 = set2[:,nrLinks2*4-2:nrLinks2*4]\n",
    "    norms = np.linalg.norm(endeff1-endeff2, axis=1)\n",
    "    return np.mean(norms)\n",
    "\n",
    "def positionsFromAngles(data, nrLinks, lengths):\n",
    "    angles=np.zeros([data.shape[0], nrLinks])\n",
    "   \n",
    "    for i in range(data.shape[0]):\n",
    "        for j in range(nrLinks):\n",
    "            #print(np.arcsin(data[i,2*j]))\n",
    "            #print(np.arccos(data[i,2*j+1]))\n",
    "            angles[i,j] = (np.arcsin(data[i,2*j]) + np.arccos(data[i,2*j+1]))/2\n",
    "    \n",
    "    return computeY(angles, lengths)\n",
    "    #print(Y.shape)\n",
    "    #return np.concatenate([data[:,:2*nrLinks], Y], axis = 1)\n",
    "    \n",
    "def compareInternalPositions(data, nrLinks, lengths): #pos from angles vs real pos\n",
    "    anglePos = positionsFromAngles(data, nrLinks, lengths)[:,:nrLinks*2]\n",
    "    pos = data[:,nrLinks * 2 : nrLinks * 4]\n",
    "    norms = np.linalg.norm(anglePos - pos, axis=1)\n",
    "    return np.mean(norms)\n",
    "\n",
    "def replaceAnglePos(data, nrLinks, lengths):\n",
    "    Y=positionsFromAngles(data, nrLinks, lengths)\n",
    "    data[:,2*nrLinks:] = Y\n",
    "    return data\n",
    "            \n",
    "    \n",
    "\n",
    "\n",
    "plotRobotDistribution(generated[:,2*nrLinks1:4*nrLinks1])\n",
    "plt.figure()\n",
    "plotRobotDistribution(yr1[:,:2*nrLinks1])\n",
    "plt.figure()\n",
    "plotRobotDistribution(yr2[:,:2*nrLinks2])\n",
    "\n",
    "print('Endeffector error pos:')\n",
    "print(endEffectorDist(test_data1, generated))\n",
    "\n",
    "forwardPos = positionsFromAngles(generated, nrLinks2, lengths2)\n",
    "print('Internal distance error:')\n",
    "print(compareInternalPositions(generated, nrLinks2, lengths2))\n",
    "print('Endeffector error angles:')\n",
    "print(endEffectorDist(test_data1, replaceAnglePos(generated, nrLinks2, lengths2)))\n"
   ]
  },
  {
   "cell_type": "code",
   "execution_count": null,
   "metadata": {},
   "outputs": [],
   "source": [
    "b=sess.run([fake_X], feed_dict={Y:X2[:100]})\n",
    "temp2=pd.DataFrame(b[0])\n",
    "temp2.plot.scatter(x=0, y=1)"
   ]
  },
  {
   "cell_type": "code",
   "execution_count": null,
   "metadata": {},
   "outputs": [],
   "source": [
    "pd.DataFrame(X2[:100]).plot.scatter(x=0,y=1)"
   ]
  },
  {
   "cell_type": "code",
   "execution_count": null,
   "metadata": {},
   "outputs": [],
   "source": [
    "train_writer.get_logdir()"
   ]
  },
  {
   "cell_type": "code",
   "execution_count": null,
   "metadata": {},
   "outputs": [],
   "source": [
    "tf.summary"
   ]
  },
  {
   "cell_type": "code",
   "execution_count": null,
   "metadata": {},
   "outputs": [],
   "source": [
    "n_batches"
   ]
  },
  {
   "cell_type": "code",
   "execution_count": null,
   "metadata": {},
   "outputs": [],
   "source": [
    "a=[1,2,3]\n",
    "b,c,d = a"
   ]
  },
  {
   "cell_type": "code",
   "execution_count": null,
   "metadata": {},
   "outputs": [],
   "source": [
    "c"
   ]
  },
  {
   "cell_type": "code",
   "execution_count": null,
   "metadata": {},
   "outputs": [],
   "source": []
  }
 ],
 "metadata": {
  "kernelspec": {
   "display_name": "Python [conda env:GANproject]",
   "language": "python",
   "name": "conda-env-GANproject-py"
  },
  "language_info": {
   "codemirror_mode": {
    "name": "ipython",
    "version": 3
   },
   "file_extension": ".py",
   "mimetype": "text/x-python",
   "name": "python",
   "nbconvert_exporter": "python",
   "pygments_lexer": "ipython3",
   "version": "3.6.8"
  }
 },
 "nbformat": 4,
 "nbformat_minor": 2
}
