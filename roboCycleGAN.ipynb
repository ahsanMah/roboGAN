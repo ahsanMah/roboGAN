{
 "cells": [
  {
   "cell_type": "code",
   "execution_count": 1,
   "metadata": {},
   "outputs": [
    {
     "name": "stdout",
     "output_type": "stream",
     "text": [
      "/Users/janine/anaconda3/envs/GANProject/bin/python\n"
     ]
    },
    {
     "data": {
      "text/plain": [
       "'1.13.1'"
      ]
     },
     "execution_count": 1,
     "metadata": {},
     "output_type": "execute_result"
    }
   ],
   "source": [
    "import tensorflow as tf\n",
    "import tensorflow.feature_column as fc \n",
    "\n",
    "import os\n",
    "import sys\n",
    "import time\n",
    "import pandas as pd\n",
    "\n",
    "import matplotlib.pyplot as plt\n",
    "import numpy as np\n",
    "from tensorflow import keras\n",
    "from tensorflow.keras import layers\n",
    "from IPython.display import clear_output\n",
    "from robot import computeRobotData, drawRobotArm, plotRobotDistribution\n",
    "\n",
    "\n",
    "\n",
    "#tf.enable_eager_execution()\n",
    "root_logdir = \"./tf_logs\"\n",
    "\n",
    "# For output stability across multiple runs of the notebook\n",
    "np.random.seed(42)\n",
    "\n",
    "# To plot pretty figures\n",
    "%matplotlib inline\n",
    "import matplotlib\n",
    "import matplotlib.pyplot as plt\n",
    "plt.rcParams['axes.labelsize'] = 14\n",
    "plt.rcParams['xtick.labelsize'] = 12\n",
    "plt.rcParams['ytick.labelsize'] = 12\n",
    "\n",
    "print(sys.executable)\n",
    "\n",
    "def shuffle_batch(X, batch_size):\n",
    "    # Shuffle the indices\n",
    "    rnd_idx = np.random.permutation(len(X))\n",
    "    n_batches = len(X) // batch_size\n",
    "    \n",
    "    # Split the index array into the number of batches\n",
    "    # Get the list of indexs per batch\n",
    "    # and yield the values when asked\n",
    "    for batch_idxs in np.array_split(rnd_idx, n_batches):\n",
    "        X_batch = X[batch_idxs]\n",
    "        yield X_batch\n",
    "\n",
    "# To make this notebook's output stable across runs\n",
    "def reset_graph(seed=42):\n",
    "    tf.reset_default_graph()\n",
    "    tf.set_random_seed(seed)\n",
    "    np.random.seed(seed)\n",
    "\n",
    "tf.__version__"
   ]
  },
  {
   "cell_type": "code",
   "execution_count": 2,
   "metadata": {},
   "outputs": [
    {
     "data": {
      "text/plain": [
       "<matplotlib.collections.PathCollection at 0xb340fdef0>"
      ]
     },
     "execution_count": 2,
     "metadata": {},
     "output_type": "execute_result"
    },
    {
     "data": {
      "image/png": "[encoded data removed]",
      "text/plain": [
       "<Figure size 432x288 with 1 Axes>"
      ]
     },
     "metadata": {
      "needs_background": "light"
     },
     "output_type": "display_data"
    }
   ],
   "source": [
    "# Funcs to generate data\n",
    "def y(x,sign=1):\n",
    "    return x*x\n",
    "\n",
    "# Data ranging from x = -0.5 to 0.5\n",
    "def sample_data(n=10000, scale=100):\n",
    "    data1 = []\n",
    "    data2 = []\n",
    "    \n",
    "    x = scale*(np.random.random_sample((n,))-0.5)\n",
    "\n",
    "    for i in range(n):\n",
    "        yi = y(x[i])\n",
    "        y2i = -yi\n",
    "        data1.append([x[i], yi])\n",
    "        data2.append([x[i], y2i])\n",
    "        \n",
    "    return np.float32(np.array(data1)), np.float32(np.array(data2))\n",
    "\n",
    "nSamples = 20000\n",
    "X1, X2 = sample_data(n=nSamples,scale=2)\n",
    "train_data = np.concatenate([X1,X2],axis=1)\n",
    "plt.scatter(X1[:,0], X1[:,1])\n",
    "# plt.show()\n",
    "plt.scatter(X2[:,0], X2[:,1])"
   ]
  },
  {
   "cell_type": "code",
   "execution_count": 9,
   "metadata": {},
   "outputs": [
    {
     "name": "stdout",
     "output_type": "stream",
     "text": [
      "(20000, 2)\n",
      "(20000, 2)\n",
      "(20000, 2)\n",
      "(20000, 10)\n",
      "2\n",
      "1\n",
      "0\n"
     ]
    },
    {
     "data": {
      "image/png": "[encoded data removed]",
      "text/plain": [
       "<Figure size 432x288 with 1 Axes>"
      ]
     },
     "metadata": {
      "needs_background": "light"
     },
     "output_type": "display_data"
    },
    {
     "data": {
      "image/png": "[encoded data removed]",
      "text/plain": [
       "<Figure size 432x288 with 1 Axes>"
      ]
     },
     "metadata": {
      "needs_background": "light"
     },
     "output_type": "display_data"
    }
   ],
   "source": [
    "nrLinks1 = 2\n",
    "nrLinks2 = 2\n",
    "nrSamples = 20000\n",
    "xr1, yr1 = computeRobotData([-np.pi, np.pi], 2, [2,1], nrSamples)\n",
    "xr1Test, yr1Test = computeRobotData([-np.pi, np.pi], 2, [2,1], nrSamples)\n",
    "xr2, yr2 = computeRobotData([-np.pi, np.pi], 2, [2,1], nrSamples)\n",
    "r1=np.concatenate([xr1,yr1], axis=1)\n",
    "r2=np.concatenate([xr2,yr2], axis=1)\n",
    "print(r1.shape)\n",
    "drawRobotArm(yr1[1,:4])\n",
    "plt.figure()\n",
    "plotRobotDistribution(yr1[:,:4])\n",
    "train_data = np.concatenate([r1,r2], axis=1)"
   ]
  },
  {
   "cell_type": "code",
   "execution_count": 10,
   "metadata": {},
   "outputs": [],
   "source": [
    "from model import RoboGAN\n",
    "\n",
    "reset_graph()\n",
    "\n",
    "sess = tf.Session()\n",
    "\n",
    "#nDimX = X1.shape[1]\n",
    "#nDimY = X2.shape[1]\n",
    "nDimX = r1.shape[1]\n",
    "nDimY = r2.shape[1]\n",
    "\n",
    "GAN = RoboGAN(nDimX, nDimY)\n",
    "\n",
    "G = GAN.G\n",
    "D_Y = GAN.D_Y\n",
    "F = GAN.F\n",
    "D_X = GAN.D_X\n",
    "\n",
    "# Getting placeholders\n",
    "X = GAN.X\n",
    "Y = GAN.Y"
   ]
  },
  {
   "cell_type": "code",
   "execution_count": 11,
   "metadata": {},
   "outputs": [],
   "source": [
    "from train import train_step\n",
    "\n",
    "losses, gradients, trainers, summary_op = train_step(GAN)"
   ]
  },
  {
   "cell_type": "code",
   "execution_count": 12,
   "metadata": {},
   "outputs": [],
   "source": [
    "# Unpacking losses and gradients from training step output\n",
    "G_loss, F_loss, D_Y_loss, D_X_loss = losses\n",
    "G_gradients, F_gradients, D_Y_gradients, D_X_gradients = gradients\n",
    "train_G, train_F, train_D_Y, train_D_X = trainers"
   ]
  },
  {
   "cell_type": "code",
   "execution_count": null,
   "metadata": {},
   "outputs": [],
   "source": []
  },
  {
   "cell_type": "markdown",
   "metadata": {},
   "source": [
    "## Running the training via a tensorflow session\n",
    "> Generators will be trained first"
   ]
  },
  {
   "cell_type": "code",
   "execution_count": 16,
   "metadata": {},
   "outputs": [
    {
     "name": "stdout",
     "output_type": "stream",
     "text": [
      "Epoch 0: GLoss:8.3674, FLoss:9.2087, DXLoss:0.2620, DYLoss:0.3837\n",
      "Epoch 1: GLoss:4.8263, FLoss:4.9962, DXLoss:0.4280, DYLoss:0.4932\n",
      "Epoch 2: GLoss:3.3512, FLoss:3.4079, DXLoss:0.5590, DYLoss:0.6096\n",
      "Epoch 3: GLoss:2.8471, FLoss:2.9588, DXLoss:0.5990, DYLoss:0.6597\n",
      "Epoch 4: GLoss:2.4854, FLoss:2.5703, DXLoss:0.6002, DYLoss:0.6448\n",
      "Epoch 5: GLoss:2.1790, FLoss:2.2618, DXLoss:0.5892, DYLoss:0.6302\n",
      "Epoch 6: GLoss:2.1123, FLoss:2.1596, DXLoss:0.5887, DYLoss:0.5996\n",
      "Epoch 7: GLoss:2.0151, FLoss:1.9838, DXLoss:0.6110, DYLoss:0.6101\n",
      "Epoch 8: GLoss:2.0163, FLoss:2.0585, DXLoss:0.5745, DYLoss:0.6015\n",
      "Epoch 9: GLoss:2.0380, FLoss:1.9852, DXLoss:0.5995, DYLoss:0.5964\n",
      "Epoch 10: GLoss:1.9957, FLoss:2.0301, DXLoss:0.5821, DYLoss:0.5874\n",
      "Epoch 11: GLoss:2.0086, FLoss:1.9754, DXLoss:0.5809, DYLoss:0.5856\n",
      "Epoch 12: GLoss:1.8166, FLoss:1.8588, DXLoss:0.5972, DYLoss:0.6000\n",
      "Epoch 13: GLoss:1.8970, FLoss:1.8323, DXLoss:0.5870, DYLoss:0.5851\n",
      "Epoch 14: GLoss:1.8494, FLoss:1.8651, DXLoss:0.5696, DYLoss:0.5698\n",
      "Epoch 15: GLoss:1.8534, FLoss:1.8760, DXLoss:0.5741, DYLoss:0.5782\n",
      "Epoch 16: GLoss:1.9051, FLoss:1.8508, DXLoss:0.6012, DYLoss:0.5806\n",
      "Epoch 17: GLoss:1.8408, FLoss:1.7832, DXLoss:0.5934, DYLoss:0.6200\n",
      "Epoch 18: GLoss:1.8483, FLoss:1.8196, DXLoss:0.6213, DYLoss:0.6386\n",
      "Epoch 19: GLoss:1.7717, FLoss:1.8578, DXLoss:0.6256, DYLoss:0.6228\n",
      "Epoch 20: GLoss:1.7187, FLoss:1.7258, DXLoss:0.6535, DYLoss:0.6448\n",
      "Epoch 21: GLoss:1.7015, FLoss:1.7176, DXLoss:0.6323, DYLoss:0.6494\n",
      "Epoch 22: GLoss:1.6977, FLoss:1.7230, DXLoss:0.6447, DYLoss:0.6450\n",
      "Epoch 23: GLoss:1.6851, FLoss:1.6502, DXLoss:0.6596, DYLoss:0.6371\n",
      "Epoch 24: GLoss:1.6464, FLoss:1.7365, DXLoss:0.6284, DYLoss:0.6473\n",
      "Epoch 25: GLoss:1.6088, FLoss:1.7049, DXLoss:0.6548, DYLoss:0.6527\n",
      "Epoch 26: GLoss:1.5691, FLoss:1.6285, DXLoss:0.6379, DYLoss:0.6464\n",
      "Epoch 27: GLoss:1.6254, FLoss:1.6012, DXLoss:0.6420, DYLoss:0.6462\n",
      "Epoch 28: GLoss:1.5592, FLoss:1.6074, DXLoss:0.6353, DYLoss:0.6810\n",
      "Epoch 29: GLoss:1.6089, FLoss:1.6453, DXLoss:0.6255, DYLoss:0.6353\n",
      "Epoch 30: GLoss:1.6055, FLoss:1.5339, DXLoss:0.6504, DYLoss:0.6405\n",
      "Epoch 31: GLoss:1.4809, FLoss:1.5523, DXLoss:0.6395, DYLoss:0.6763\n",
      "Epoch 32: GLoss:1.5836, FLoss:1.5969, DXLoss:0.6530, DYLoss:0.6369\n",
      "Epoch 33: GLoss:1.5389, FLoss:1.5197, DXLoss:0.6435, DYLoss:0.6341\n",
      "Epoch 34: GLoss:1.4984, FLoss:1.5653, DXLoss:0.6268, DYLoss:0.6308\n",
      "Epoch 35: GLoss:1.5372, FLoss:1.5567, DXLoss:0.6254, DYLoss:0.6340\n",
      "Epoch 36: GLoss:1.5237, FLoss:1.5627, DXLoss:0.6359, DYLoss:0.6460\n",
      "Epoch 37: GLoss:1.4703, FLoss:1.5862, DXLoss:0.6124, DYLoss:0.6438\n",
      "Epoch 38: GLoss:1.4813, FLoss:1.5118, DXLoss:0.6348, DYLoss:0.6584\n",
      "Epoch 39: GLoss:1.5428, FLoss:1.5272, DXLoss:0.6487, DYLoss:0.6595\n",
      "Epoch 40: GLoss:1.4726, FLoss:1.5129, DXLoss:0.6472, DYLoss:0.6529\n",
      "Epoch 41: GLoss:1.5302, FLoss:1.5029, DXLoss:0.6167, DYLoss:0.6326\n",
      "Epoch 42: GLoss:1.4398, FLoss:1.4574, DXLoss:0.6326, DYLoss:0.6357\n",
      "Epoch 43: GLoss:1.4171, FLoss:1.4788, DXLoss:0.6333, DYLoss:0.6598\n",
      "Epoch 44: GLoss:1.5530, FLoss:1.5266, DXLoss:0.6320, DYLoss:0.6410\n",
      "Epoch 45: GLoss:1.4628, FLoss:1.4456, DXLoss:0.6460, DYLoss:0.6652\n",
      "Epoch 46: GLoss:1.3563, FLoss:1.4490, DXLoss:0.6242, DYLoss:0.6577\n",
      "Epoch 47: GLoss:1.4614, FLoss:1.5837, DXLoss:0.6085, DYLoss:0.6270\n",
      "Epoch 48: GLoss:1.4679, FLoss:1.5017, DXLoss:0.6261, DYLoss:0.6346\n",
      "Epoch 49: GLoss:1.4640, FLoss:1.4576, DXLoss:0.6265, DYLoss:0.6487\n",
      "Runtime: 46.126s\n"
     ]
    }
   ],
   "source": [
    "sess =  tf.Session()\n",
    "sess.run(tf.global_variables_initializer())\n",
    "\n",
    "# Delete exisiting events file\n",
    "for file in os.listdir(root_logdir):\n",
    "    os.remove(root_logdir+\"/\"+file)\n",
    "\n",
    "train_writer = tf.summary.FileWriter(root_logdir, tf.get_default_graph())\n",
    "\n",
    "start_time = time.time()\n",
    "batch_size = 100\n",
    "n_batches = nSamples / batch_size\n",
    "\n",
    "for epoch in range(50):\n",
    "    for batch_index, batch in enumerate(shuffle_batch(train_data, batch_size)):\n",
    "        X_batch = batch[:,:nDimX]\n",
    "        Y_batch = batch[:,nDimX:]\n",
    "        \n",
    "        \n",
    "        # Training Generators G and F first w/ cycle consistency\n",
    "        Gloss, Floss, _,_ = sess.run([G_loss, F_loss, train_G, train_F],\n",
    "                                     feed_dict={X:X_batch, Y:Y_batch})\n",
    "        \n",
    "        # Optimizing Discriminators D_X and D_Y\n",
    "        D_Xloss, D_Yloss, _,_, summary = sess.run([D_X_loss, D_Y_loss, train_D_X, train_D_Y, summary_op],\n",
    "                                         feed_dict={X: X_batch, Y: Y_batch})\n",
    "        \n",
    "        step = epoch * n_batches + batch_index \n",
    "        if step % 100 == 0:\n",
    "            train_writer.add_summary(summary, step)\n",
    "#         train_writer.flush()\n",
    "    \n",
    "    print(\"Epoch {}: GLoss:{:.4f}, FLoss:{:.4f}, DXLoss:{:.4f}, DYLoss:{:.4f}\".format(epoch,Gloss,Floss,D_Xloss,D_Yloss))\n",
    "\n",
    "print(\"Runtime: {:.3f}s\".format(time.time()-start_time))\n",
    "train_writer.close()"
   ]
  },
  {
   "cell_type": "code",
   "execution_count": 19,
   "metadata": {},
   "outputs": [
    {
     "name": "stdout",
     "output_type": "stream",
     "text": [
      "1\n",
      "0\n"
     ]
    },
    {
     "data": {
      "image/png": "[encoded data removed]",
      "text/plain": [
       "<Figure size 432x288 with 1 Axes>"
      ]
     },
     "metadata": {
      "needs_background": "light"
     },
     "output_type": "display_data"
    }
   ],
   "source": [
    "test_data1 = np.concatenate([xr1Test,yr1Test], axis=1)\n",
    "generated=sess.run([G(X)], feed_dict={X: test_data1[:10000]})\n",
    "generated = generated[0]\n",
    "\n",
    "plotRobotDistribution(generated[:,4:8])\n",
    "\n",
    "test_data1[]"
   ]
  },
  {
   "cell_type": "code",
   "execution_count": 1,
   "metadata": {},
   "outputs": [
    {
     "ename": "NameError",
     "evalue": "name 'sess' is not defined",
     "output_type": "error",
     "traceback": [
      "\u001b[0;31m---------------------------------------------------------------------------\u001b[0m",
      "\u001b[0;31mNameError\u001b[0m                                 Traceback (most recent call last)",
      "\u001b[0;32m<ipython-input-1-c8e86e2ada22>\u001b[0m in \u001b[0;36m<module>\u001b[0;34m\u001b[0m\n\u001b[0;32m----> 1\u001b[0;31m \u001b[0mb\u001b[0m\u001b[0;34m=\u001b[0m\u001b[0msess\u001b[0m\u001b[0;34m.\u001b[0m\u001b[0mrun\u001b[0m\u001b[0;34m(\u001b[0m\u001b[0;34m[\u001b[0m\u001b[0mfake_X\u001b[0m\u001b[0;34m]\u001b[0m\u001b[0;34m,\u001b[0m \u001b[0mfeed_dict\u001b[0m\u001b[0;34m=\u001b[0m\u001b[0;34m{\u001b[0m\u001b[0mY\u001b[0m\u001b[0;34m:\u001b[0m\u001b[0mX2\u001b[0m\u001b[0;34m[\u001b[0m\u001b[0;34m:\u001b[0m\u001b[0;36m100\u001b[0m\u001b[0;34m]\u001b[0m\u001b[0;34m}\u001b[0m\u001b[0;34m)\u001b[0m\u001b[0;34m\u001b[0m\u001b[0;34m\u001b[0m\u001b[0m\n\u001b[0m\u001b[1;32m      2\u001b[0m \u001b[0mtemp2\u001b[0m\u001b[0;34m=\u001b[0m\u001b[0mpd\u001b[0m\u001b[0;34m.\u001b[0m\u001b[0mDataFrame\u001b[0m\u001b[0;34m(\u001b[0m\u001b[0mb\u001b[0m\u001b[0;34m[\u001b[0m\u001b[0;36m0\u001b[0m\u001b[0;34m]\u001b[0m\u001b[0;34m)\u001b[0m\u001b[0;34m\u001b[0m\u001b[0;34m\u001b[0m\u001b[0m\n\u001b[1;32m      3\u001b[0m \u001b[0mtemp2\u001b[0m\u001b[0;34m.\u001b[0m\u001b[0mplot\u001b[0m\u001b[0;34m.\u001b[0m\u001b[0mscatter\u001b[0m\u001b[0;34m(\u001b[0m\u001b[0mx\u001b[0m\u001b[0;34m=\u001b[0m\u001b[0;36m0\u001b[0m\u001b[0;34m,\u001b[0m \u001b[0my\u001b[0m\u001b[0;34m=\u001b[0m\u001b[0;36m1\u001b[0m\u001b[0;34m)\u001b[0m\u001b[0;34m\u001b[0m\u001b[0;34m\u001b[0m\u001b[0m\n",
      "\u001b[0;31mNameError\u001b[0m: name 'sess' is not defined"
     ]
    }
   ],
   "source": [
    "b=sess.run([fake_X], feed_dict={Y:X2[:100]})\n",
    "temp2=pd.DataFrame(b[0])\n",
    "temp2.plot.scatter(x=0, y=1)"
   ]
  },
  {
   "cell_type": "code",
   "execution_count": 41,
   "metadata": {},
   "outputs": [
    {
     "data": {
      "text/plain": [
       "<matplotlib.axes._subplots.AxesSubplot at 0x13ed50be0>"
      ]
     },
     "execution_count": 41,
     "metadata": {},
     "output_type": "execute_result"
    },
    {
     "data": {
      "image/png": "[encoded data removed]",
      "text/plain": [
       "<Figure size 432x288 with 1 Axes>"
      ]
     },
     "metadata": {
      "needs_background": "light"
     },
     "output_type": "display_data"
    }
   ],
   "source": [
    "pd.DataFrame(X2[:100]).plot.scatter(x=0,y=1)"
   ]
  },
  {
   "cell_type": "code",
   "execution_count": 66,
   "metadata": {},
   "outputs": [
    {
     "data": {
      "text/plain": [
       "'./tf_logs'"
      ]
     },
     "execution_count": 66,
     "metadata": {},
     "output_type": "execute_result"
    }
   ],
   "source": [
    "train_writer.get_logdir()"
   ]
  },
  {
   "cell_type": "code",
   "execution_count": 79,
   "metadata": {},
   "outputs": [
    {
     "data": {
      "text/plain": [
       "<module 'tensorflow._api.v1.summary' from '/Users/Work/anaconda3/envs/condaflow/lib/python3.6/site-packages/tensorflow/_api/v1/summary/__init__.py'>"
      ]
     },
     "execution_count": 79,
     "metadata": {},
     "output_type": "execute_result"
    }
   ],
   "source": [
    "tf.summary"
   ]
  },
  {
   "cell_type": "code",
   "execution_count": 92,
   "metadata": {},
   "outputs": [
    {
     "data": {
      "text/plain": [
       "200.0"
      ]
     },
     "execution_count": 92,
     "metadata": {},
     "output_type": "execute_result"
    }
   ],
   "source": [
    "n_batches"
   ]
  },
  {
   "cell_type": "code",
   "execution_count": 1,
   "metadata": {},
   "outputs": [],
   "source": [
    "a=[1,2,3]\n",
    "b,c,d = a"
   ]
  },
  {
   "cell_type": "code",
   "execution_count": 2,
   "metadata": {},
   "outputs": [
    {
     "data": {
      "text/plain": [
       "2"
      ]
     },
     "execution_count": 2,
     "metadata": {},
     "output_type": "execute_result"
    }
   ],
   "source": [
    "c"
   ]
  },
  {
   "cell_type": "code",
   "execution_count": null,
   "metadata": {},
   "outputs": [],
   "source": []
  }
 ],
 "metadata": {
  "kernelspec": {
   "display_name": "Python [conda env:GANproject]",
   "language": "python",
   "name": "conda-env-GANproject-py"
  },
  "language_info": {
   "codemirror_mode": {
    "name": "ipython",
    "version": 3
   },
   "file_extension": ".py",
   "mimetype": "text/x-python",
   "name": "python",
   "nbconvert_exporter": "python",
   "pygments_lexer": "ipython3",
   "version": "3.6.8"
  }
 },
 "nbformat": 4,
 "nbformat_minor": 2
}
