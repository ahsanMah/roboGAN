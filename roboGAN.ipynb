{
 "cells": [
  {
   "cell_type": "code",
   "execution_count": 3,
   "metadata": {},
   "outputs": [
    {
     "name": "stdout",
     "output_type": "stream",
     "text": [
      "/Users/Work/anaconda3/envs/condaflow/bin/python\n"
     ]
    },
    {
     "data": {
      "text/plain": [
       "'1.13.1'"
      ]
     },
     "execution_count": 3,
     "metadata": {},
     "output_type": "execute_result"
    }
   ],
   "source": [
    "import tensorflow as tf\n",
    "import tensorflow.feature_column as fc \n",
    "\n",
    "import os\n",
    "import sys\n",
    "import time\n",
    "import pandas as pd\n",
    "\n",
    "import matplotlib.pyplot as plt\n",
    "import numpy as np\n",
    "from tensorflow import keras\n",
    "from tensorflow.keras import layers\n",
    "from IPython.display import clear_output\n",
    "\n",
    "#tf.enable_eager_execution()\n",
    "\n",
    "# For output stability across multiple runs of the notebook\n",
    "np.random.seed(42)\n",
    "\n",
    "# To plot pretty figures\n",
    "%matplotlib inline\n",
    "import matplotlib\n",
    "import matplotlib.pyplot as plt\n",
    "plt.rcParams['axes.labelsize'] = 14\n",
    "plt.rcParams['xtick.labelsize'] = 12\n",
    "plt.rcParams['ytick.labelsize'] = 12\n",
    "\n",
    "print(sys.executable)\n",
    "\n",
    "def shuffle_batch(X, batch_size):\n",
    "    # Shuffle the indices\n",
    "    rnd_idx = np.random.permutation(len(X))\n",
    "    n_batches = len(X) // batch_size\n",
    "    \n",
    "    # Split the index array into the number of batches\n",
    "    # Get the list of indexs per batch\n",
    "    # and yield the values when asked\n",
    "    for batch_idxs in np.array_split(rnd_idx, n_batches):\n",
    "        X_batch = X[batch_idxs]\n",
    "        yield X_batch\n",
    "\n",
    "# To make this notebook's output stable across runs\n",
    "def reset_graph(seed=42):\n",
    "    tf.reset_default_graph()\n",
    "    tf.set_random_seed(seed)\n",
    "    np.random.seed(seed)\n",
    "\n",
    "tf.__version__"
   ]
  },
  {
   "cell_type": "code",
   "execution_count": 4,
   "metadata": {},
   "outputs": [
    {
     "data": {
      "text/plain": [
       "<matplotlib.collections.PathCollection at 0x12d80e438>"
      ]
     },
     "execution_count": 4,
     "metadata": {},
     "output_type": "execute_result"
    },
    {
     "data": {
      "image/png": "[encoded data removed]",
      "text/plain": [
       "<Figure size 432x288 with 1 Axes>"
      ]
     },
     "metadata": {
      "needs_background": "light"
     },
     "output_type": "display_data"
    }
   ],
   "source": [
    "# Funcs to generate data\n",
    "def y(x,sign=1):\n",
    "    return x*x\n",
    "\n",
    "# Data ranging from x = -0.5 to 0.5\n",
    "def sample_data(n=10000, scale=100):\n",
    "    data1 = []\n",
    "    data2 = []\n",
    "    \n",
    "    x = scale*(np.random.random_sample((n,))-0.5)\n",
    "\n",
    "    for i in range(n):\n",
    "        yi = y(x[i])\n",
    "        y2i = -yi\n",
    "        data1.append([x[i], yi])\n",
    "        data2.append([x[i], y2i])\n",
    "        \n",
    "    return np.float32(np.array(data1)), np.float32(np.array(data2))\n",
    "\n",
    "\n",
    "X1, X2 = sample_data(n=20000,scale=2)\n",
    "train_data = np.concatenate([X1,X2],axis=1)\n",
    "plt.scatter(X1[:,0], X1[:,1])\n",
    "# plt.show()\n",
    "plt.scatter(X2[:,0], X2[:,1])"
   ]
  },
  {
   "cell_type": "code",
   "execution_count": 7,
   "metadata": {},
   "outputs": [],
   "source": [
    "from model import RoboGAN\n",
    "\n",
    "reset_graph()\n",
    "\n",
    "sess = tf.Session()\n",
    "\n",
    "nDimX = X1.shape[1]\n",
    "nDimY = X2.shape[1]\n",
    "\n",
    "GAN = RoboGAN()\n",
    "\n",
    "# Generating forward GAN = G: X -> Y\n",
    "X = tf.placeholder(tf.float32, shape=(None,nDimX), name = \"X\")\n",
    "G = GAN.generator(name=\"G\")\n",
    "G_D = GAN.discriminator(name=\"G_D\")\n",
    "\n",
    "# Generating backward GAN = F: Y -> X\n",
    "Y = tf.placeholder(tf.float32, shape=(None, nDimY), name=\"Y\")\n",
    "F = GAN.generator(name=\"F\")\n",
    "F_D = GAN.discriminator(name=\"F_D\")\n"
   ]
  },
  {
   "cell_type": "code",
   "execution_count": 9,
   "metadata": {},
   "outputs": [
    {
     "name": "stdout",
     "output_type": "stream",
     "text": [
      "WARNING:tensorflow:From /Users/Work/anaconda3/envs/condaflow/lib/python3.6/site-packages/tensorflow/python/ops/math_ops.py:3066: to_int32 (from tensorflow.python.ops.math_ops) is deprecated and will be removed in a future version.\n",
      "Instructions for updating:\n",
      "Use tf.cast instead.\n"
     ]
    }
   ],
   "source": [
    "# Loss for\n",
    "with tf.GradientTape() as G_tape, tf.GradientTape() as G_D_tape:\n",
    "    \n",
    "    fake_Y = G(X)\n",
    "    D_Gy_logits = G_D(fake_Y)\n",
    "    D_Y_logits = G_D(Y)\n",
    "    \n",
    "    G_loss = GAN.generator_loss(D_Gy_logits)\n",
    "    G_D_loss = GAN.discriminator_loss(real_output=D_Y_logits, fake_output=D_Gy_logits)\n",
    "    \n",
    "    G_gradients = G_tape.gradient(G_loss, G.trainable_variables)\n",
    "    G_D_gradients = G_D_tape.gradient(G_D_loss, G_D.trainable_variables)"
   ]
  },
  {
   "cell_type": "markdown",
   "metadata": {},
   "source": [
    "## Setting up optimizers"
   ]
  },
  {
   "cell_type": "code",
   "execution_count": 12,
   "metadata": {},
   "outputs": [],
   "source": [
    "opt_G = tf.train.AdamOptimizer(1e-3)\n",
    "opt_G_D = tf.train.AdamOptimizer(1e-3)\n",
    "train_G = opt_G.apply_gradients(zip(G_gradients, G.trainable_variables))\n",
    "train_G_D = opt_G_D.apply_gradients(zip(G_D_gradients, G_D.trainable_variables))"
   ]
  },
  {
   "cell_type": "markdown",
   "metadata": {},
   "source": [
    "## Running the trainiong via a tensorflow session"
   ]
  },
  {
   "cell_type": "code",
   "execution_count": null,
   "metadata": {},
   "outputs": [],
   "source": [
    "sess =  tf.Session()\n",
    "sess.run(tf.global_variables_initializer())\n",
    "\n",
    "batch_size = 100\n",
    "for epoch in range(30):\n",
    "    for i,batch in enumerate(shuffle_batch(train_data, batch_size)):\n",
    "        X_batch = batch[:,:2]\n",
    "        Y_batch = batch[:,2:]\n",
    "        Gloss, GDloss,_,_ = sess.run([G_loss, G_Dloss, train_G, train_G_D], feed_dict={X:X_batch})\n",
    "    \n",
    "    \n",
    "    print(\"Epoch {}: GLoss:{:.4f}, DLoss:{:.4f}\".format(epoch,gloss,dloss))"
   ]
  }
 ],
 "metadata": {
  "kernelspec": {
   "display_name": "condaflow",
   "language": "python",
   "name": "condaflow"
  },
  "language_info": {
   "codemirror_mode": {
    "name": "ipython",
    "version": 3
   },
   "file_extension": ".py",
   "mimetype": "text/x-python",
   "name": "python",
   "nbconvert_exporter": "python",
   "pygments_lexer": "ipython3",
   "version": "3.6.8"
  }
 },
 "nbformat": 4,
 "nbformat_minor": 2
}
