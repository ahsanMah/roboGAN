{
 "cells": [
  {
   "cell_type": "code",
   "execution_count": 55,
   "metadata": {},
   "outputs": [
    {
     "name": "stdout",
     "output_type": "stream",
     "text": [
      "/Users/Work/anaconda3/envs/condaflow/bin/python\n"
     ]
    },
    {
     "data": {
      "text/plain": [
       "'1.13.1'"
      ]
     },
     "execution_count": 55,
     "metadata": {},
     "output_type": "execute_result"
    }
   ],
   "source": [
    "import tensorflow as tf\n",
    "import tensorflow.feature_column as fc \n",
    "\n",
    "import os\n",
    "import sys\n",
    "import time\n",
    "import pandas as pd\n",
    "\n",
    "import matplotlib.pyplot as plt\n",
    "import numpy as np\n",
    "from tensorflow import keras\n",
    "from tensorflow.keras import layers\n",
    "from IPython.display import clear_output\n",
    "\n",
    "#tf.enable_eager_execution()\n",
    "root_logdir = \"./tf_logs\"\n",
    "\n",
    "# For output stability across multiple runs of the notebook\n",
    "np.random.seed(42)\n",
    "\n",
    "# To plot pretty figures\n",
    "%matplotlib inline\n",
    "import matplotlib\n",
    "import matplotlib.pyplot as plt\n",
    "plt.rcParams['axes.labelsize'] = 14\n",
    "plt.rcParams['xtick.labelsize'] = 12\n",
    "plt.rcParams['ytick.labelsize'] = 12\n",
    "\n",
    "print(sys.executable)\n",
    "\n",
    "def shuffle_batch(X, batch_size):\n",
    "    # Shuffle the indices\n",
    "    rnd_idx = np.random.permutation(len(X))\n",
    "    n_batches = len(X) // batch_size\n",
    "    \n",
    "    # Split the index array into the number of batches\n",
    "    # Get the list of indexs per batch\n",
    "    # and yield the values when asked\n",
    "    for batch_idxs in np.array_split(rnd_idx, n_batches):\n",
    "        X_batch = X[batch_idxs]\n",
    "        yield X_batch\n",
    "\n",
    "# To make this notebook's output stable across runs\n",
    "def reset_graph(seed=42):\n",
    "    tf.reset_default_graph()\n",
    "    tf.set_random_seed(seed)\n",
    "    np.random.seed(seed)\n",
    "\n",
    "tf.__version__"
   ]
  },
  {
   "cell_type": "code",
   "execution_count": 58,
   "metadata": {},
   "outputs": [
    {
     "data": {
      "text/plain": [
       "<matplotlib.collections.PathCollection at 0x13fedb240>"
      ]
     },
     "execution_count": 58,
     "metadata": {},
     "output_type": "execute_result"
    },
    {
     "data": {
      "image/png": "[encoded data removed]",
      "text/plain": [
       "<Figure size 432x288 with 1 Axes>"
      ]
     },
     "metadata": {
      "needs_background": "light"
     },
     "output_type": "display_data"
    }
   ],
   "source": [
    "# Funcs to generate data\n",
    "def y(x,sign=1):\n",
    "    return x*x\n",
    "\n",
    "# Data ranging from x = -0.5 to 0.5\n",
    "def sample_data(n=10000, scale=100):\n",
    "    data1 = []\n",
    "    data2 = []\n",
    "    \n",
    "    x = scale*(np.random.random_sample((n,))-0.5)\n",
    "\n",
    "    for i in range(n):\n",
    "        yi = y(x[i])\n",
    "        y2i = -yi\n",
    "        data1.append([x[i], yi])\n",
    "        data2.append([x[i], y2i])\n",
    "        \n",
    "    return np.float32(np.array(data1)), np.float32(np.array(data2))\n",
    "\n",
    "nSamples = 20000\n",
    "X1, X2 = sample_data(n=nSamples,scale=2)\n",
    "train_data = np.concatenate([X1,X2],axis=1)\n",
    "plt.scatter(X1[:,0], X1[:,1])\n",
    "# plt.show()\n",
    "plt.scatter(X2[:,0], X2[:,1])"
   ]
  },
  {
   "cell_type": "code",
   "execution_count": 85,
   "metadata": {},
   "outputs": [],
   "source": [
    "from model import RoboGAN\n",
    "\n",
    "reset_graph()\n",
    "\n",
    "sess = tf.Session()\n",
    "\n",
    "nDimX = X1.shape[1]\n",
    "nDimY = X2.shape[1]\n",
    "\n",
    "GAN = RoboGAN()\n",
    "\n",
    "# Generating forward GAN = G: X -> Y\n",
    "X = tf.placeholder(tf.float32, shape=(None,nDimX), name = \"X\")\n",
    "G = GAN.generator(name=\"G\")\n",
    "D_Y = GAN.discriminator(name=\"D_Y\")\n",
    "\n",
    "# Generating backward GAN = F: Y -> X\n",
    "Y = tf.placeholder(tf.float32, shape=(None, nDimY), name=\"Y\")\n",
    "F = GAN.generator(name=\"F\")\n",
    "D_X = GAN.discriminator(name=\"D_X\")\n"
   ]
  },
  {
   "cell_type": "code",
   "execution_count": 86,
   "metadata": {},
   "outputs": [],
   "source": [
    "# Loss for\n",
    "with tf.GradientTape() as G_tape,   \\\n",
    "     tf.GradientTape() as D_Y_tape, \\\n",
    "     tf.GradientTape() as F_tape,   \\\n",
    "     tf.GradientTape() as D_X_tape:\n",
    "    \n",
    "    # Generating forward samples X -> Y\n",
    "    fake_Y = G(X)\n",
    "    D_Gy_logits = D_Y(fake_Y)\n",
    "    D_Y_logits = D_Y(Y)\n",
    "    \n",
    "    # Generating backward samples X <- Y\n",
    "    fake_X = F(Y)\n",
    "    D_Fx_logits = D_X(fake_X) # D_Fx = D_X ( F(Y) )\n",
    "    D_X_logits = D_X(X)\n",
    "    \n",
    "    G_Fx = G(fake_X)\n",
    "    F_Gy = F(fake_Y)\n",
    "    \n",
    "    cycle_loss = GAN.cycle_consistency_loss(G_Fx, F_Gy, X, Y)\n",
    "    \n",
    "    G_loss = GAN.generator_loss(D_Gy_logits, heuristic=False) + cycle_loss\n",
    "    D_Y_loss = GAN.discriminator_loss(real_output= D_Y_logits, fake_output= D_Gy_logits)\n",
    "    \n",
    "    F_loss = GAN.generator_loss(D_Fx_logits, heuristic=False) + cycle_loss\n",
    "    D_X_loss = GAN.discriminator_loss(real_output= D_X_logits, fake_output= D_Fx_logits)\n",
    "    \n",
    "    G_gradients = G_tape.gradient(G_loss, G.trainable_variables)\n",
    "    D_Y_gradients = D_Y_tape.gradient(D_Y_loss, D_Y.trainable_variables)\n",
    "    \n",
    "    F_gradients = F_tape.gradient(F_loss, F.trainable_variables)\n",
    "    D_X_gradients = D_X_tape.gradient(D_X_loss, D_X.trainable_variables)"
   ]
  },
  {
   "cell_type": "markdown",
   "metadata": {},
   "source": [
    "## Setting up optimizers"
   ]
  },
  {
   "cell_type": "code",
   "execution_count": 87,
   "metadata": {},
   "outputs": [],
   "source": [
    "opt_G = tf.train.AdamOptimizer(1e-3)\n",
    "opt_D_Y = tf.train.AdamOptimizer(1e-3)\n",
    "opt_F = tf.train.AdamOptimizer(1e-3)\n",
    "opt_D_X = tf.train.AdamOptimizer(1e-3)\n",
    "\n",
    "train_G = opt_G.apply_gradients(zip(G_gradients, G.trainable_variables))\n",
    "train_F = opt_F.apply_gradients(zip(F_gradients, F.trainable_variables))\n",
    "\n",
    "train_D_Y = opt_D_Y.apply_gradients(zip(D_Y_gradients, D_Y.trainable_variables))\n",
    "train_D_X = opt_D_X.apply_gradients(zip(D_X_gradients, D_X.trainable_variables))"
   ]
  },
  {
   "cell_type": "code",
   "execution_count": 88,
   "metadata": {},
   "outputs": [],
   "source": [
    "# Getting summaries\n",
    "\n",
    "tf.summary.histogram('D_Y/true', D_Y_logits)\n",
    "tf.summary.histogram('D_Y/fake', D_Gy_logits)\n",
    "tf.summary.histogram('D_X/true', D_X_logits)\n",
    "tf.summary.histogram('D_X/fake', D_Fx_logits)\n",
    "\n",
    "tf.summary.scalar('loss/G', G_loss)\n",
    "tf.summary.scalar('loss/D_Y', D_Y_loss)\n",
    "tf.summary.scalar('loss/F', F_loss)\n",
    "tf.summary.scalar('loss/D_X', D_X_loss)\n",
    "tf.summary.scalar('loss/cycle', cycle_loss)\n",
    "\n",
    "summary_op = tf.summary.merge_all()"
   ]
  },
  {
   "cell_type": "markdown",
   "metadata": {},
   "source": [
    "## Running the training via a tensorflow session\n",
    "> Generators will be trained first"
   ]
  },
  {
   "cell_type": "code",
   "execution_count": 96,
   "metadata": {},
   "outputs": [
    {
     "name": "stdout",
     "output_type": "stream",
     "text": [
      "Epoch 0: GLoss:1.2437, FLoss:1.2552, DXLoss:0.6614, DYLoss:0.6785\n",
      "Epoch 1: GLoss:0.9464, FLoss:1.0042, DXLoss:0.6886, DYLoss:0.6919\n",
      "Epoch 2: GLoss:0.9412, FLoss:0.9652, DXLoss:0.6585, DYLoss:0.6824\n",
      "Epoch 3: GLoss:0.8929, FLoss:0.9110, DXLoss:0.6697, DYLoss:0.6803\n",
      "Epoch 4: GLoss:0.9004, FLoss:0.9155, DXLoss:0.6816, DYLoss:0.6853\n",
      "Epoch 5: GLoss:0.8726, FLoss:0.8519, DXLoss:0.6878, DYLoss:0.6913\n",
      "Epoch 6: GLoss:0.8217, FLoss:0.8460, DXLoss:0.6904, DYLoss:0.6911\n",
      "Epoch 7: GLoss:0.8058, FLoss:0.8334, DXLoss:0.6878, DYLoss:0.6909\n",
      "Epoch 8: GLoss:0.7763, FLoss:0.7753, DXLoss:0.6878, DYLoss:0.6900\n",
      "Epoch 9: GLoss:0.7980, FLoss:0.7797, DXLoss:0.6874, DYLoss:0.6919\n",
      "Epoch 10: GLoss:0.8112, FLoss:0.7779, DXLoss:0.6864, DYLoss:0.6919\n",
      "Epoch 11: GLoss:0.7597, FLoss:0.7668, DXLoss:0.6875, DYLoss:0.6905\n",
      "Epoch 12: GLoss:0.7833, FLoss:0.7866, DXLoss:0.6904, DYLoss:0.6915\n",
      "Epoch 13: GLoss:0.7843, FLoss:0.7908, DXLoss:0.6831, DYLoss:0.6906\n",
      "Epoch 14: GLoss:0.7539, FLoss:0.7834, DXLoss:0.6879, DYLoss:0.6915\n",
      "Epoch 15: GLoss:0.7386, FLoss:0.7742, DXLoss:0.6898, DYLoss:0.6913\n",
      "Epoch 16: GLoss:0.7569, FLoss:0.7400, DXLoss:0.6899, DYLoss:0.6918\n",
      "Epoch 17: GLoss:0.7324, FLoss:0.7699, DXLoss:0.6898, DYLoss:0.6909\n",
      "Epoch 18: GLoss:0.7655, FLoss:0.7782, DXLoss:0.6886, DYLoss:0.6913\n",
      "Epoch 19: GLoss:0.7611, FLoss:0.7639, DXLoss:0.6877, DYLoss:0.6900\n",
      "Epoch 20: GLoss:0.7646, FLoss:0.7658, DXLoss:0.6895, DYLoss:0.6903\n",
      "Epoch 21: GLoss:0.7406, FLoss:0.7278, DXLoss:0.6900, DYLoss:0.6908\n",
      "Epoch 22: GLoss:0.7549, FLoss:0.7521, DXLoss:0.6891, DYLoss:0.6908\n",
      "Epoch 23: GLoss:0.7387, FLoss:0.7739, DXLoss:0.6892, DYLoss:0.6915\n",
      "Epoch 24: GLoss:0.7319, FLoss:0.7492, DXLoss:0.6873, DYLoss:0.6903\n",
      "Epoch 25: GLoss:0.7592, FLoss:0.7357, DXLoss:0.6889, DYLoss:0.6903\n",
      "Epoch 26: GLoss:0.7578, FLoss:0.7713, DXLoss:0.6906, DYLoss:0.6910\n",
      "Epoch 27: GLoss:0.7223, FLoss:0.7509, DXLoss:0.6898, DYLoss:0.6909\n",
      "Epoch 28: GLoss:0.7567, FLoss:0.7407, DXLoss:0.6904, DYLoss:0.6905\n",
      "Epoch 29: GLoss:0.7633, FLoss:0.7483, DXLoss:0.6907, DYLoss:0.6912\n",
      "Runtime: 13.543s\n"
     ]
    }
   ],
   "source": [
    "sess =  tf.Session()\n",
    "sess.run(tf.global_variables_initializer())\n",
    "\n",
    "# Delete exisiting events file\n",
    "for file in os.listdir(root_logdir):\n",
    "    os.remove(root_logdir+\"/\"+file)\n",
    "\n",
    "train_writer = tf.summary.FileWriter(root_logdir, tf.get_default_graph())\n",
    "\n",
    "start_time = time.time()\n",
    "batch_size = 100\n",
    "n_batches = nSamples / batch_size\n",
    "\n",
    "for epoch in range(30):\n",
    "    for batch_index, batch in enumerate(shuffle_batch(train_data, batch_size)):\n",
    "        X_batch = batch[:,:nDimX]\n",
    "        Y_batch = batch[:,nDimX:]\n",
    "        \n",
    "        \n",
    "        # Training Generators G and F first w/ cycle consistency\n",
    "        Gloss, Floss, _,_ = sess.run([G_loss, F_loss, train_G, train_F],\n",
    "                                     feed_dict={X:X_batch, Y:Y_batch})\n",
    "        \n",
    "        # Optimizing Discriminators D_X and D_Y\n",
    "        D_Xloss, D_Yloss, _,_, summary = sess.run([D_X_loss, D_Y_loss, train_D_X, train_D_Y, summary_op],\n",
    "                                         feed_dict={X: X_batch, Y: Y_batch})\n",
    "        \n",
    "        step = epoch * n_batches + batch_index \n",
    "        if step % 100 == 0:\n",
    "            train_writer.add_summary(summary, step)\n",
    "#         train_writer.flush()\n",
    "    \n",
    "    print(\"Epoch {}: GLoss:{:.4f}, FLoss:{:.4f}, DXLoss:{:.4f}, DYLoss:{:.4f}\".format(epoch,Gloss,Floss,D_Xloss,D_Yloss))\n",
    "\n",
    "print(\"Runtime: {:.3f}s\".format(time.time()-start_time))\n",
    "train_writer.close()"
   ]
  },
  {
   "cell_type": "code",
   "execution_count": 97,
   "metadata": {},
   "outputs": [
    {
     "data": {
      "text/plain": [
       "<matplotlib.axes._subplots.AxesSubplot at 0x143f14630>"
      ]
     },
     "execution_count": 97,
     "metadata": {},
     "output_type": "execute_result"
    },
    {
     "data": {
      "image/png": "[encoded data removed]",
      "text/plain": [
       "<Figure size 432x288 with 1 Axes>"
      ]
     },
     "metadata": {
      "needs_background": "light"
     },
     "output_type": "display_data"
    }
   ],
   "source": [
    "\n",
    "\n",
    "a=sess.run([fake_Y], feed_dict={X:X1[:100]})\n",
    "temp=pd.DataFrame(a[0])\n",
    "temp.plot.scatter(x=0, y=1)"
   ]
  },
  {
   "cell_type": "code",
   "execution_count": 44,
   "metadata": {},
   "outputs": [
    {
     "data": {
      "text/plain": [
       "<matplotlib.axes._subplots.AxesSubplot at 0x13edd54e0>"
      ]
     },
     "execution_count": 44,
     "metadata": {},
     "output_type": "execute_result"
    },
    {
     "data": {
      "image/png": "[encoded data removed]",
      "text/plain": [
       "<Figure size 432x288 with 1 Axes>"
      ]
     },
     "metadata": {
      "needs_background": "light"
     },
     "output_type": "display_data"
    }
   ],
   "source": [
    "b=sess.run([fake_X], feed_dict={Y:X2[:100]})\n",
    "temp2=pd.DataFrame(b[0])\n",
    "temp2.plot.scatter(x=0, y=1)"
   ]
  },
  {
   "cell_type": "code",
   "execution_count": 41,
   "metadata": {},
   "outputs": [
    {
     "data": {
      "text/plain": [
       "<matplotlib.axes._subplots.AxesSubplot at 0x13ed50be0>"
      ]
     },
     "execution_count": 41,
     "metadata": {},
     "output_type": "execute_result"
    },
    {
     "data": {
      "image/png": "[encoded data removed]",
      "text/plain": [
       "<Figure size 432x288 with 1 Axes>"
      ]
     },
     "metadata": {
      "needs_background": "light"
     },
     "output_type": "display_data"
    }
   ],
   "source": [
    "pd.DataFrame(X2[:100]).plot.scatter(x=0,y=1)"
   ]
  },
  {
   "cell_type": "code",
   "execution_count": 66,
   "metadata": {},
   "outputs": [
    {
     "data": {
      "text/plain": [
       "'./tf_logs'"
      ]
     },
     "execution_count": 66,
     "metadata": {},
     "output_type": "execute_result"
    }
   ],
   "source": [
    "train_writer.get_logdir()"
   ]
  },
  {
   "cell_type": "code",
   "execution_count": 79,
   "metadata": {},
   "outputs": [
    {
     "data": {
      "text/plain": [
       "<module 'tensorflow._api.v1.summary' from '/Users/Work/anaconda3/envs/condaflow/lib/python3.6/site-packages/tensorflow/_api/v1/summary/__init__.py'>"
      ]
     },
     "execution_count": 79,
     "metadata": {},
     "output_type": "execute_result"
    }
   ],
   "source": [
    "tf.summary"
   ]
  },
  {
   "cell_type": "code",
   "execution_count": 92,
   "metadata": {},
   "outputs": [
    {
     "data": {
      "text/plain": [
       "200.0"
      ]
     },
     "execution_count": 92,
     "metadata": {},
     "output_type": "execute_result"
    }
   ],
   "source": [
    "n_batches"
   ]
  },
  {
   "cell_type": "code",
   "execution_count": null,
   "metadata": {},
   "outputs": [],
   "source": []
  }
 ],
 "metadata": {
  "kernelspec": {
   "display_name": "condaflow",
   "language": "python",
   "name": "condaflow"
  },
  "language_info": {
   "codemirror_mode": {
    "name": "ipython",
    "version": 3
   },
   "file_extension": ".py",
   "mimetype": "text/x-python",
   "name": "python",
   "nbconvert_exporter": "python",
   "pygments_lexer": "ipython3",
   "version": "3.6.8"
  }
 },
 "nbformat": 4,
 "nbformat_minor": 2
}
