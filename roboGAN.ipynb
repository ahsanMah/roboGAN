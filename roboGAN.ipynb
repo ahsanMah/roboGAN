{
 "cells": [
  {
   "cell_type": "code",
   "execution_count": 1,
   "metadata": {},
   "outputs": [
    {
     "name": "stdout",
     "output_type": "stream",
     "text": [
      "/Users/Work/anaconda3/envs/condaflow/bin/python\n"
     ]
    },
    {
     "data": {
      "text/plain": [
       "'1.13.1'"
      ]
     },
     "execution_count": 1,
     "metadata": {},
     "output_type": "execute_result"
    }
   ],
   "source": [
    "import tensorflow as tf\n",
    "import tensorflow.feature_column as fc \n",
    "\n",
    "import os\n",
    "import sys\n",
    "import time\n",
    "import pandas as pd\n",
    "\n",
    "import matplotlib.pyplot as plt\n",
    "import numpy as np\n",
    "from tensorflow import keras\n",
    "from tensorflow.keras import layers\n",
    "from IPython.display import clear_output\n",
    "\n",
    "#tf.enable_eager_execution()\n",
    "\n",
    "# For output stability across multiple runs of the notebook\n",
    "np.random.seed(42)\n",
    "\n",
    "# To plot pretty figures\n",
    "%matplotlib inline\n",
    "import matplotlib\n",
    "import matplotlib.pyplot as plt\n",
    "plt.rcParams['axes.labelsize'] = 14\n",
    "plt.rcParams['xtick.labelsize'] = 12\n",
    "plt.rcParams['ytick.labelsize'] = 12\n",
    "\n",
    "print(sys.executable)\n",
    "\n",
    "def shuffle_batch(X, batch_size):\n",
    "    # Shuffle the indices\n",
    "    rnd_idx = np.random.permutation(len(X))\n",
    "    n_batches = len(X) // batch_size\n",
    "    \n",
    "    # Split the index array into the number of batches\n",
    "    # Get the list of indexs per batch\n",
    "    # and yield the values when asked\n",
    "    for batch_idxs in np.array_split(rnd_idx, n_batches):\n",
    "        X_batch = X[batch_idxs]\n",
    "        yield X_batch\n",
    "\n",
    "# To make this notebook's output stable across runs\n",
    "def reset_graph(seed=42):\n",
    "    tf.reset_default_graph()\n",
    "    tf.set_random_seed(seed)\n",
    "    np.random.seed(seed)\n",
    "\n",
    "tf.__version__"
   ]
  },
  {
   "cell_type": "code",
   "execution_count": 2,
   "metadata": {},
   "outputs": [
    {
     "data": {
      "text/plain": [
       "<matplotlib.collections.PathCollection at 0x136ddc470>"
      ]
     },
     "execution_count": 2,
     "metadata": {},
     "output_type": "execute_result"
    },
    {
     "data": {
      "image/png": "[encoded data removed]",
      "text/plain": [
       "<Figure size 432x288 with 1 Axes>"
      ]
     },
     "metadata": {
      "needs_background": "light"
     },
     "output_type": "display_data"
    }
   ],
   "source": [
    "# Funcs to generate data\n",
    "def y(x,sign=1):\n",
    "    return x*x\n",
    "\n",
    "# Data ranging from x = -0.5 to 0.5\n",
    "def sample_data(n=10000, scale=100):\n",
    "    data1 = []\n",
    "    data2 = []\n",
    "    \n",
    "    x = scale*(np.random.random_sample((n,))-0.5)\n",
    "\n",
    "    for i in range(n):\n",
    "        yi = y(x[i])\n",
    "        y2i = -yi\n",
    "        data1.append([x[i], yi])\n",
    "        data2.append([x[i], y2i])\n",
    "        \n",
    "    return np.float32(np.array(data1)), np.float32(np.array(data2))\n",
    "\n",
    "\n",
    "X1, X2 = sample_data(n=20000,scale=2)\n",
    "train_data = np.concatenate([X1,X2],axis=1)\n",
    "plt.scatter(X1[:,0], X1[:,1])\n",
    "# plt.show()\n",
    "plt.scatter(X2[:,0], X2[:,1])"
   ]
  },
  {
   "cell_type": "code",
   "execution_count": 35,
   "metadata": {},
   "outputs": [],
   "source": [
    "from model import RoboGAN\n",
    "\n",
    "reset_graph()\n",
    "\n",
    "sess = tf.Session()\n",
    "\n",
    "nDimX = X1.shape[1]\n",
    "nDimY = X2.shape[1]\n",
    "\n",
    "GAN = RoboGAN()\n",
    "\n",
    "# Generating forward GAN = G: X -> Y\n",
    "X = tf.placeholder(tf.float32, shape=(None,nDimX), name = \"X\")\n",
    "G = GAN.generator(name=\"G\")\n",
    "G_D = GAN.discriminator(name=\"G_D\")\n",
    "\n",
    "# Generating backward GAN = F: Y -> X\n",
    "Y = tf.placeholder(tf.float32, shape=(None, nDimY), name=\"Y\")\n",
    "F = GAN.generator(name=\"F\")\n",
    "F_D = GAN.discriminator(name=\"F_D\")\n"
   ]
  },
  {
   "cell_type": "code",
   "execution_count": 36,
   "metadata": {},
   "outputs": [],
   "source": [
    "# Loss for\n",
    "with tf.GradientTape() as G_tape,   \\\n",
    "     tf.GradientTape() as G_D_tape, \\\n",
    "     tf.GradientTape() as F_tape,   \\\n",
    "     tf.GradientTape() as F_D_tape:\n",
    "    \n",
    "    # Generating forward samples X -> Y\n",
    "    fake_Y = G(X)\n",
    "    D_Gy_logits = G_D(fake_Y)\n",
    "    D_Y_logits = G_D(Y)\n",
    "    \n",
    "    # Generating backward samples X <- Y\n",
    "    fake_X = F(Y)\n",
    "    D_Fx_logits = F_D(fake_X) # D_Fx = D_X ( F(Y) )\n",
    "    D_X_logits = F_D(X)\n",
    "    \n",
    "    cycle_loss = GAN.cycle_consistency_loss(G_Fx= G(fake_X), F_Gy= F(fake_Y), x= X, y= Y)\n",
    "    \n",
    "    G_loss = GAN.generator_loss(D_Gy_logits, heuristic=False) + cycle_loss\n",
    "    G_D_loss = GAN.discriminator_loss(real_output= D_Y_logits, fake_output= D_Gy_logits)\n",
    "    \n",
    "    F_loss = GAN.generator_loss(D_Fx_logits, heuristic=False) + cycle_loss\n",
    "    F_D_loss = GAN.discriminator_loss(real_output= D_X_logits, fake_output= D_Fx_logits)\n",
    "    \n",
    "    G_gradients = G_tape.gradient(G_loss, G.trainable_variables)\n",
    "    G_D_gradients = G_D_tape.gradient(G_D_loss, G_D.trainable_variables)\n",
    "    \n",
    "    F_gradients = F_tape.gradient(F_loss, F.trainable_variables)\n",
    "    F_D_gradients = F_D_tape.gradient(F_D_loss, F_D.trainable_variables)"
   ]
  },
  {
   "cell_type": "markdown",
   "metadata": {},
   "source": [
    "## Setting up optimizers"
   ]
  },
  {
   "cell_type": "code",
   "execution_count": 37,
   "metadata": {},
   "outputs": [],
   "source": [
    "opt_G = tf.train.AdamOptimizer(1e-3)\n",
    "opt_G_D = tf.train.AdamOptimizer(1e-3)\n",
    "opt_F = tf.train.AdamOptimizer(1e-3)\n",
    "opt_F_D = tf.train.AdamOptimizer(1e-3)\n",
    "\n",
    "train_G = opt_G.apply_gradients(zip(G_gradients, G.trainable_variables))\n",
    "train_F = opt_F.apply_gradients(zip(F_gradients, F.trainable_variables))\n",
    "\n",
    "train_D_X = opt_G_D.apply_gradients(zip(G_D_gradients, G_D.trainable_variables))\n",
    "train_D_Y = opt_F_D.apply_gradients(zip(F_D_gradients, F_D.trainable_variables))"
   ]
  },
  {
   "cell_type": "markdown",
   "metadata": {},
   "source": [
    "## Running the training via a tensorflow session\n",
    "> Generators will be trained first"
   ]
  },
  {
   "cell_type": "code",
   "execution_count": 42,
   "metadata": {},
   "outputs": [
    {
     "name": "stdout",
     "output_type": "stream",
     "text": [
      "Epoch 0: GLoss:1.1845, FLoss:1.1866, DXLoss:0.6751, DYLoss:0.6607\n",
      "Epoch 1: GLoss:0.9922, FLoss:1.0250, DXLoss:0.6906, DYLoss:0.6796\n",
      "Epoch 2: GLoss:0.9029, FLoss:0.9254, DXLoss:0.6868, DYLoss:0.6754\n",
      "Epoch 3: GLoss:0.9312, FLoss:0.9397, DXLoss:0.6795, DYLoss:0.6719\n",
      "Epoch 4: GLoss:0.8879, FLoss:0.8764, DXLoss:0.6902, DYLoss:0.6895\n",
      "Epoch 5: GLoss:0.8463, FLoss:0.8418, DXLoss:0.6916, DYLoss:0.6901\n",
      "Epoch 6: GLoss:0.8240, FLoss:0.8528, DXLoss:0.6895, DYLoss:0.6867\n",
      "Epoch 7: GLoss:0.8103, FLoss:0.7956, DXLoss:0.6924, DYLoss:0.6905\n",
      "Epoch 8: GLoss:0.7725, FLoss:0.7945, DXLoss:0.6902, DYLoss:0.6889\n",
      "Epoch 9: GLoss:0.7747, FLoss:0.7833, DXLoss:0.6920, DYLoss:0.6922\n",
      "Epoch 10: GLoss:0.7979, FLoss:0.7989, DXLoss:0.6902, DYLoss:0.6856\n",
      "Epoch 11: GLoss:0.7637, FLoss:0.7700, DXLoss:0.6911, DYLoss:0.6884\n",
      "Epoch 12: GLoss:0.7716, FLoss:0.7653, DXLoss:0.6918, DYLoss:0.6872\n",
      "Epoch 13: GLoss:0.7647, FLoss:0.7602, DXLoss:0.6918, DYLoss:0.6892\n",
      "Epoch 14: GLoss:0.7696, FLoss:0.7823, DXLoss:0.6918, DYLoss:0.6891\n"
     ]
    }
   ],
   "source": [
    "sess =  tf.Session()\n",
    "sess.run(tf.global_variables_initializer())\n",
    "\n",
    "batch_size = 100\n",
    "for epoch in range(15):\n",
    "    for i,batch in enumerate(shuffle_batch(train_data, batch_size)):\n",
    "        X_batch = batch[:,:nDimX]\n",
    "        Y_batch = batch[:,nDimX:]\n",
    "        \n",
    "        \n",
    "        # Training Generators G and F first w/ cycle consistency\n",
    "        Gloss, Floss, _,_ = sess.run([G_loss, F_loss, train_G, train_F],\n",
    "                                     feed_dict={X:X_batch, Y:Y_batch})\n",
    "        \n",
    "        # Optimizing Discriminators D_X and D_Y\n",
    "        D_Xloss, D_Yloss, _,_ = sess.run([G_D_loss, F_D_loss, train_D_X, train_D_Y],\n",
    "                                         feed_dict={X: X_batch, Y: Y_batch})\n",
    "\n",
    "    \n",
    "    print(\"Epoch {}: GLoss:{:.4f}, FLoss:{:.4f}, DXLoss:{:.4f}, DYLoss:{:.4f}\".format(epoch,Gloss,Floss,D_Xloss,D_Yloss))"
   ]
  },
  {
   "cell_type": "code",
   "execution_count": 43,
   "metadata": {},
   "outputs": [
    {
     "data": {
      "text/plain": [
       "<matplotlib.axes._subplots.AxesSubplot at 0x13ed957f0>"
      ]
     },
     "execution_count": 43,
     "metadata": {},
     "output_type": "execute_result"
    },
    {
     "data": {
      "image/png": "[encoded data removed]",
      "text/plain": [
       "<Figure size 432x288 with 1 Axes>"
      ]
     },
     "metadata": {
      "needs_background": "light"
     },
     "output_type": "display_data"
    }
   ],
   "source": [
    "a=sess.run([fake_Y], feed_dict={X:X1})\n",
    "temp=pd.DataFrame(a[0])\n",
    "temp.plot.scatter(x=0, y=1)"
   ]
  },
  {
   "cell_type": "code",
   "execution_count": 44,
   "metadata": {},
   "outputs": [
    {
     "data": {
      "text/plain": [
       "<matplotlib.axes._subplots.AxesSubplot at 0x13edd54e0>"
      ]
     },
     "execution_count": 44,
     "metadata": {},
     "output_type": "execute_result"
    },
    {
     "data": {
      "image/png": "[encoded data removed]",
      "text/plain": [
       "<Figure size 432x288 with 1 Axes>"
      ]
     },
     "metadata": {
      "needs_background": "light"
     },
     "output_type": "display_data"
    }
   ],
   "source": [
    "b=sess.run([fake_X], feed_dict={Y:X2[:100]})\n",
    "temp2=pd.DataFrame(b[0])\n",
    "temp2.plot.scatter(x=0, y=1)"
   ]
  },
  {
   "cell_type": "code",
   "execution_count": 41,
   "metadata": {},
   "outputs": [
    {
     "data": {
      "text/plain": [
       "<matplotlib.axes._subplots.AxesSubplot at 0x13ed50be0>"
      ]
     },
     "execution_count": 41,
     "metadata": {},
     "output_type": "execute_result"
    },
    {
     "data": {
      "image/png": "[encoded data removed]",
      "text/plain": [
       "<Figure size 432x288 with 1 Axes>"
      ]
     },
     "metadata": {
      "needs_background": "light"
     },
     "output_type": "display_data"
    }
   ],
   "source": [
    "pd.DataFrame(X2[:100]).plot.scatter(x=0,y=1)"
   ]
  },
  {
   "cell_type": "code",
   "execution_count": null,
   "metadata": {},
   "outputs": [],
   "source": []
  }
 ],
 "metadata": {
  "kernelspec": {
   "display_name": "condaflow",
   "language": "python",
   "name": "condaflow"
  },
  "language_info": {
   "codemirror_mode": {
    "name": "ipython",
    "version": 3
   },
   "file_extension": ".py",
   "mimetype": "text/x-python",
   "name": "python",
   "nbconvert_exporter": "python",
   "pygments_lexer": "ipython3",
   "version": "3.6.8"
  }
 },
 "nbformat": 4,
 "nbformat_minor": 2
}
