{
 "cells": [
  {
   "cell_type": "code",
   "execution_count": 1,
   "metadata": {},
   "outputs": [
    {
     "name": "stdout",
     "output_type": "stream",
     "text": [
      "/Users/Work/anaconda3/envs/condaflow/bin/python\n"
     ]
    },
    {
     "data": {
      "text/plain": [
       "'1.13.1'"
      ]
     },
     "execution_count": 1,
     "metadata": {},
     "output_type": "execute_result"
    }
   ],
   "source": [
    "import tensorflow as tf\n",
    "import tensorflow.feature_column as fc \n",
    "\n",
    "import os\n",
    "import sys\n",
    "import time\n",
    "import pandas as pd\n",
    "\n",
    "import matplotlib.pyplot as plt\n",
    "import numpy as np\n",
    "from tensorflow import keras\n",
    "from tensorflow.keras import layers\n",
    "from IPython.display import clear_output\n",
    "\n",
    "#tf.enable_eager_execution()\n",
    "root_logdir = \"./tf_logs\"\n",
    "\n",
    "# For output stability across multiple runs of the notebook\n",
    "np.random.seed(42)\n",
    "\n",
    "# To plot pretty figures\n",
    "%matplotlib inline\n",
    "import matplotlib\n",
    "import matplotlib.pyplot as plt\n",
    "plt.rcParams['axes.labelsize'] = 14\n",
    "plt.rcParams['xtick.labelsize'] = 12\n",
    "plt.rcParams['ytick.labelsize'] = 12\n",
    "\n",
    "print(sys.executable)\n",
    "\n",
    "def shuffle_batch(X, batch_size):\n",
    "    # Shuffle the indices\n",
    "    rnd_idx = np.random.permutation(len(X))\n",
    "    n_batches = len(X) // batch_size\n",
    "    \n",
    "    # Split the index array into the number of batches\n",
    "    # Get the list of indexs per batch\n",
    "    # and yield the values when asked\n",
    "    for batch_idxs in np.array_split(rnd_idx, n_batches):\n",
    "        X_batch = X[batch_idxs]\n",
    "        yield X_batch\n",
    "\n",
    "# To make this notebook's output stable across runs\n",
    "def reset_graph(seed=42):\n",
    "    tf.reset_default_graph()\n",
    "    tf.set_random_seed(seed)\n",
    "    np.random.seed(seed)\n",
    "\n",
    "tf.__version__"
   ]
  },
  {
   "cell_type": "code",
   "execution_count": 2,
   "metadata": {},
   "outputs": [
    {
     "data": {
      "text/plain": [
       "<matplotlib.collections.PathCollection at 0x1383f35c0>"
      ]
     },
     "execution_count": 2,
     "metadata": {},
     "output_type": "execute_result"
    },
    {
     "data": {
      "image/png": "[encoded data removed]",
      "text/plain": [
       "<Figure size 432x288 with 1 Axes>"
      ]
     },
     "metadata": {
      "needs_background": "light"
     },
     "output_type": "display_data"
    }
   ],
   "source": [
    "# Funcs to generate data\n",
    "def y(x,sign=1):\n",
    "    return x*x\n",
    "\n",
    "# Data ranging from x = -0.5 to 0.5\n",
    "def sample_data(n=10000, scale=100):\n",
    "    data1 = []\n",
    "    data2 = []\n",
    "    \n",
    "    x = scale*(np.random.random_sample((n,))-0.5)\n",
    "\n",
    "    for i in range(n):\n",
    "        yi = y(x[i])\n",
    "        y2i = -yi\n",
    "        data1.append([x[i], yi])\n",
    "        data2.append([x[i], y2i])\n",
    "        \n",
    "    return np.float32(np.array(data1)), np.float32(np.array(data2))\n",
    "\n",
    "nSamples = 20000\n",
    "X1, X2 = sample_data(n=nSamples,scale=2)\n",
    "train_data = np.concatenate([X1,X2],axis=1)\n",
    "plt.scatter(X1[:,0], X1[:,1])\n",
    "# plt.show()\n",
    "plt.scatter(X2[:,0], X2[:,1])"
   ]
  },
  {
   "cell_type": "code",
   "execution_count": 3,
   "metadata": {},
   "outputs": [
    {
     "name": "stdout",
     "output_type": "stream",
     "text": [
      "WARNING:tensorflow:From /Users/Work/anaconda3/envs/condaflow/lib/python3.6/site-packages/tensorflow/python/ops/resource_variable_ops.py:435: colocate_with (from tensorflow.python.framework.ops) is deprecated and will be removed in a future version.\n",
      "Instructions for updating:\n",
      "Colocations handled automatically by placer.\n"
     ]
    }
   ],
   "source": [
    "from model import RoboGAN\n",
    "\n",
    "reset_graph()\n",
    "\n",
    "sess = tf.Session()\n",
    "\n",
    "nDimX = X1.shape[1]\n",
    "nDimY = X2.shape[1]\n",
    "\n",
    "GAN = RoboGAN(nDimX, nDimY)\n",
    "\n",
    "G = GAN.G\n",
    "D_Y = GAN.D_Y\n",
    "F = GAN.F\n",
    "D_X = GAN.D_X\n",
    "\n",
    "# Getting placeholders\n",
    "X = GAN.X\n",
    "Y = GAN.Y"
   ]
  },
  {
   "cell_type": "code",
   "execution_count": 4,
   "metadata": {},
   "outputs": [
    {
     "name": "stdout",
     "output_type": "stream",
     "text": [
      "WARNING:tensorflow:From /Users/Work/anaconda3/envs/condaflow/lib/python3.6/site-packages/tensorflow/python/keras/utils/losses_utils.py:170: to_float (from tensorflow.python.ops.math_ops) is deprecated and will be removed in a future version.\n",
      "Instructions for updating:\n",
      "Use tf.cast instead.\n",
      "WARNING:tensorflow:From /Users/Work/anaconda3/envs/condaflow/lib/python3.6/site-packages/tensorflow/python/ops/math_ops.py:3066: to_int32 (from tensorflow.python.ops.math_ops) is deprecated and will be removed in a future version.\n",
      "Instructions for updating:\n",
      "Use tf.cast instead.\n"
     ]
    }
   ],
   "source": [
    "from train import train_step\n",
    "\n",
    "losses, gradients, trainers, summary_op = train_step(GAN)"
   ]
  },
  {
   "cell_type": "code",
   "execution_count": 5,
   "metadata": {},
   "outputs": [],
   "source": [
    "# Unpacking losses and gradients from training step output\n",
    "G_loss, F_loss, D_Y_loss, D_X_loss = losses\n",
    "G_gradients, F_gradients, D_Y_gradients, D_X_gradients = gradients\n",
    "train_G, train_F, train_D_Y, train_D_X = trainers"
   ]
  },
  {
   "cell_type": "markdown",
   "metadata": {},
   "source": [
    "## Running the training via a tensorflow session\n",
    "> Generators will be trained first"
   ]
  },
  {
   "cell_type": "code",
   "execution_count": 6,
   "metadata": {},
   "outputs": [
    {
     "name": "stdout",
     "output_type": "stream",
     "text": [
      "Epoch 0: GLoss:2.6406, FLoss:2.5063, DXLoss:0.6550, DYLoss:0.6464\n",
      "Epoch 1: GLoss:1.7211, FLoss:1.6871, DXLoss:0.6696, DYLoss:0.6655\n",
      "Epoch 2: GLoss:1.2977, FLoss:1.3634, DXLoss:0.6825, DYLoss:0.6830\n",
      "Epoch 3: GLoss:1.2100, FLoss:1.2530, DXLoss:0.6682, DYLoss:0.6787\n",
      "Epoch 4: GLoss:1.0716, FLoss:1.1315, DXLoss:0.6639, DYLoss:0.6783\n",
      "Epoch 5: GLoss:1.0676, FLoss:1.0612, DXLoss:0.6521, DYLoss:0.6750\n",
      "Epoch 6: GLoss:1.0280, FLoss:1.0726, DXLoss:0.6738, DYLoss:0.6876\n",
      "Epoch 7: GLoss:0.9593, FLoss:1.0100, DXLoss:0.6731, DYLoss:0.6913\n",
      "Epoch 8: GLoss:0.9891, FLoss:1.0318, DXLoss:0.6711, DYLoss:0.6916\n",
      "Epoch 9: GLoss:0.9597, FLoss:0.9931, DXLoss:0.6805, DYLoss:0.6900\n",
      "Runtime: 5.204s\n"
     ]
    }
   ],
   "source": [
    "sess =  tf.Session()\n",
    "sess.run(tf.global_variables_initializer())\n",
    "\n",
    "# Delete exisiting events file\n",
    "for file in os.listdir(root_logdir):\n",
    "    os.remove(root_logdir+\"/\"+file)\n",
    "\n",
    "train_writer = tf.summary.FileWriter(root_logdir, tf.get_default_graph())\n",
    "\n",
    "start_time = time.time()\n",
    "batch_size = 100\n",
    "n_batches = nSamples / batch_size\n",
    "\n",
    "for epoch in range(10):\n",
    "    for batch_index, batch in enumerate(shuffle_batch(train_data, batch_size)):\n",
    "        X_batch = batch[:,:nDimX]\n",
    "        Y_batch = batch[:,nDimX:]\n",
    "        \n",
    "        \n",
    "        # Training Generators G and F first w/ cycle consistency\n",
    "        Gloss, Floss, _,_ = sess.run([G_loss, F_loss, train_G, train_F],\n",
    "                                     feed_dict={X:X_batch, Y:Y_batch})\n",
    "        \n",
    "        # Optimizing Discriminators D_X and D_Y\n",
    "        D_Xloss, D_Yloss, _,_, summary = sess.run([D_X_loss, D_Y_loss, train_D_X, train_D_Y, summary_op],\n",
    "                                         feed_dict={X: X_batch, Y: Y_batch})\n",
    "        \n",
    "        step = epoch * n_batches + batch_index \n",
    "        if step % 100 == 0:\n",
    "            train_writer.add_summary(summary, step)\n",
    "#         train_writer.flush()\n",
    "    \n",
    "    print(\"Epoch {}: GLoss:{:.4f}, FLoss:{:.4f}, DXLoss:{:.4f}, DYLoss:{:.4f}\".format(epoch,Gloss,Floss,D_Xloss,D_Yloss))\n",
    "\n",
    "print(\"Runtime: {:.3f}s\".format(time.time()-start_time))\n",
    "train_writer.close()"
   ]
  },
  {
   "cell_type": "code",
   "execution_count": 12,
   "metadata": {},
   "outputs": [
    {
     "data": {
      "text/plain": [
       "<matplotlib.axes._subplots.AxesSubplot at 0x135914550>"
      ]
     },
     "execution_count": 12,
     "metadata": {},
     "output_type": "execute_result"
    },
    {
     "data": {
      "image/png": "[encoded data removed]",
      "text/plain": [
       "<Figure size 432x288 with 1 Axes>"
      ]
     },
     "metadata": {
      "needs_background": "light"
     },
     "output_type": "display_data"
    }
   ],
   "source": [
    "a=sess.run([G(X)], feed_dict={X: X1[:100]})\n",
    "temp=pd.DataFrame(a[0])\n",
    "temp.plot.scatter(x=0, y=1)"
   ]
  },
  {
   "cell_type": "code",
   "execution_count": null,
   "metadata": {},
   "outputs": [],
   "source": [
    "b=sess.run([fake_X], feed_dict={Y:X2[:100]})\n",
    "temp2=pd.DataFrame(b[0])\n",
    "temp2.plot.scatter(x=0, y=1)"
   ]
  },
  {
   "cell_type": "code",
   "execution_count": 41,
   "metadata": {},
   "outputs": [
    {
     "data": {
      "text/plain": [
       "<matplotlib.axes._subplots.AxesSubplot at 0x13ed50be0>"
      ]
     },
     "execution_count": 41,
     "metadata": {},
     "output_type": "execute_result"
    },
    {
     "data": {
      "image/png": "[encoded data removed]",
      "text/plain": [
       "<Figure size 432x288 with 1 Axes>"
      ]
     },
     "metadata": {
      "needs_background": "light"
     },
     "output_type": "display_data"
    }
   ],
   "source": [
    "pd.DataFrame(X2[:100]).plot.scatter(x=0,y=1)"
   ]
  },
  {
   "cell_type": "code",
   "execution_count": 66,
   "metadata": {},
   "outputs": [
    {
     "data": {
      "text/plain": [
       "'./tf_logs'"
      ]
     },
     "execution_count": 66,
     "metadata": {},
     "output_type": "execute_result"
    }
   ],
   "source": [
    "train_writer.get_logdir()"
   ]
  },
  {
   "cell_type": "code",
   "execution_count": 79,
   "metadata": {},
   "outputs": [
    {
     "data": {
      "text/plain": [
       "<module 'tensorflow._api.v1.summary' from '/Users/Work/anaconda3/envs/condaflow/lib/python3.6/site-packages/tensorflow/_api/v1/summary/__init__.py'>"
      ]
     },
     "execution_count": 79,
     "metadata": {},
     "output_type": "execute_result"
    }
   ],
   "source": [
    "tf.summary"
   ]
  },
  {
   "cell_type": "code",
   "execution_count": 92,
   "metadata": {},
   "outputs": [
    {
     "data": {
      "text/plain": [
       "200.0"
      ]
     },
     "execution_count": 92,
     "metadata": {},
     "output_type": "execute_result"
    }
   ],
   "source": [
    "n_batches"
   ]
  },
  {
   "cell_type": "code",
   "execution_count": 1,
   "metadata": {},
   "outputs": [],
   "source": [
    "a=[1,2,3]\n",
    "b,c,d = a"
   ]
  },
  {
   "cell_type": "code",
   "execution_count": 2,
   "metadata": {},
   "outputs": [
    {
     "data": {
      "text/plain": [
       "2"
      ]
     },
     "execution_count": 2,
     "metadata": {},
     "output_type": "execute_result"
    }
   ],
   "source": [
    "c"
   ]
  },
  {
   "cell_type": "code",
   "execution_count": null,
   "metadata": {},
   "outputs": [],
   "source": []
  }
 ],
 "metadata": {
  "kernelspec": {
   "display_name": "condaflow",
   "language": "python",
   "name": "condaflow"
  },
  "language_info": {
   "codemirror_mode": {
    "name": "ipython",
    "version": 3
   },
   "file_extension": ".py",
   "mimetype": "text/x-python",
   "name": "python",
   "nbconvert_exporter": "python",
   "pygments_lexer": "ipython3",
   "version": "3.6.8"
  }
 },
 "nbformat": 4,
 "nbformat_minor": 2
}
