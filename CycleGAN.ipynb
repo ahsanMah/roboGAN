{
 "cells": [
  {
   "cell_type": "markdown",
   "metadata": {},
   "source": [
    "## Proof of concept of a simple cycle gan"
   ]
  },
  {
   "cell_type": "code",
   "execution_count": 1,
   "metadata": {},
   "outputs": [
    {
     "name": "stdout",
     "output_type": "stream",
     "text": [
      "/Users/Work/anaconda3/envs/condaflow/bin/python\n"
     ]
    },
    {
     "data": {
      "text/plain": [
       "'1.13.1'"
      ]
     },
     "execution_count": 1,
     "metadata": {},
     "output_type": "execute_result"
    }
   ],
   "source": [
    "import tensorflow as tf\n",
    "import tensorflow.feature_column as fc \n",
    "\n",
    "import os\n",
    "import sys\n",
    "import time\n",
    "import pandas as pd\n",
    "\n",
    "import matplotlib.pyplot as plt\n",
    "import numpy as np\n",
    "from tensorflow import keras\n",
    "from tensorflow.keras import layers\n",
    "from IPython.display import clear_output\n",
    "\n",
    "#tf.enable_eager_execution()\n",
    "\n",
    "# For output stability across multiple runs of the notebook\n",
    "np.random.seed(42)\n",
    "\n",
    "# To plot pretty figures\n",
    "%matplotlib inline\n",
    "import matplotlib\n",
    "import matplotlib.pyplot as plt\n",
    "plt.rcParams['axes.labelsize'] = 14\n",
    "plt.rcParams['xtick.labelsize'] = 12\n",
    "plt.rcParams['ytick.labelsize'] = 12\n",
    "\n",
    "print(sys.executable)\n",
    "\n",
    "def shuffle_batch(X, batch_size):\n",
    "    # Shuffle the indices\n",
    "    rnd_idx = np.random.permutation(len(X))\n",
    "    n_batches = len(X) // batch_size\n",
    "    \n",
    "    # Split the index array into the number of batches\n",
    "    # Get the list of indexs per batch\n",
    "    # and yield the values when asked\n",
    "    for batch_idxs in np.array_split(rnd_idx, n_batches):\n",
    "        X_batch = X[batch_idxs]\n",
    "        yield X_batch\n",
    "\n",
    "# To make this notebook's output stable across runs\n",
    "def reset_graph(seed=42):\n",
    "    tf.reset_default_graph()\n",
    "    tf.set_random_seed(seed)\n",
    "    np.random.seed(seed)\n",
    "\n",
    "tf.__version__"
   ]
  },
  {
   "cell_type": "code",
   "execution_count": 2,
   "metadata": {},
   "outputs": [],
   "source": [
    "# Funcs to generate data\n",
    "def y(x,sign=1):\n",
    "    return x*x\n",
    "\n",
    "# Data ranging from x = -0.5 to 0.5\n",
    "def sample_data(n=10000, scale=100):\n",
    "    data1 = []\n",
    "    data2 = []\n",
    "    \n",
    "    x = scale*(np.random.random_sample((n,))-0.5)\n",
    "\n",
    "    for i in range(n):\n",
    "        yi = y(x[i])\n",
    "        y2i = -yi\n",
    "        data1.append([x[i], yi])\n",
    "        data2.append([x[i], y2i])\n",
    "        \n",
    "    return np.array(data1), np.array(data2)"
   ]
  },
  {
   "cell_type": "markdown",
   "metadata": {},
   "source": [
    "### Defining Constants"
   ]
  },
  {
   "cell_type": "code",
   "execution_count": 11,
   "metadata": {},
   "outputs": [],
   "source": [
    "LAMBDA1 = 10\n",
    "LAMBDA2 = 10\n",
    "LR = 2e-4"
   ]
  },
  {
   "cell_type": "code",
   "execution_count": 12,
   "metadata": {},
   "outputs": [],
   "source": [
    "#  def discriminator(X,hsize=[50,50], num_outputs=2, reuse=False):\n",
    "    \n",
    "#     with tf.variable_scope(\"D\", reuse=reuse):\n",
    "#         hidden1 = tf.layers.dense(X, hsize[0],name=\"d_hidden1\",\n",
    "#                                   activation=tf.nn.elu)\n",
    "#         hidden2 = tf.layers.dense(hidden1, hsize[1],name=\"d_hidden2\",\n",
    "#                                   activation=tf.nn.elu)\n",
    "#         logits = tf.layers.dense(hidden2, num_outputs, name = \"d_logits\")\n",
    "    \n",
    "#     return logits\n",
    "\n",
    "\n",
    "\n",
    "def generator(X, name, hsize=[10,10], num_outputs=2, reuse=False):\n",
    "    \n",
    "    with tf.variable_scope(name, reuse=reuse):\n",
    "        hidden1 = tf.layers.dense(X, hsize[0],name=\"g_hidden1\",\n",
    "                                  activation=tf.nn.elu)\n",
    "        hidden2 = tf.layers.dense(hidden1, hsize[1],name=\"g_hidden2\",\n",
    "                                  activation=tf.nn.tanh)\n",
    "        logits = tf.layers.dense(hidden2, num_outputs, name = \"g_logits\" )\n",
    "    \n",
    "    return logits\n",
    "\n",
    "def discriminator(X, name, hsize=[10,10], num_outputs=2, reuse=False):\n",
    "    \n",
    "    with tf.variable_scope(name, reuse=reuse):\n",
    "        hidden1 = tf.layers.dense(X, hsize[0],name=\"d_hidden1\",\n",
    "                                  activation=tf.nn.elu)\n",
    "        hidden2 = tf.layers.dense(hidden1, hsize[1],name=\"d_hidden2\",\n",
    "                                  activation=tf.nn.elu)\n",
    "        logits = tf.layers.dense(hidden2, num_outputs, name = \"d_logits\")\n",
    "    \n",
    "    return logits\n",
    "\n",
    "# def cycle_consistency_loss(self, G, F, x, y):\n",
    "#     \"\"\" cycle consistency loss (L1 norm)\n",
    "#     \"\"\"\n",
    "#     forward_loss = tf.reduce_mean(tf.abs(F(G(x))-x))\n",
    "#     backward_loss = tf.reduce_mean(tf.abs(G(F(y))-y))\n",
    "#     loss = self.lambda1*forward_loss + self.lambda2*backward_loss\n",
    "#     return loss\n",
    "\n",
    "def cycle_consistency_loss(G_Fy, F_Gx, X, Y):\n",
    "    \"\"\" cycle consistency loss (L1 norm)\n",
    "    \"\"\"\n",
    "    lambda1 =10\n",
    "    lambda2=10\n",
    "    forward_loss = tf.reduce_mean(tf.abs(F_Gx-X))\n",
    "    backward_loss = tf.reduce_mean(tf.abs(G_Fy-Y))\n",
    "    loss = lambda1*forward_loss + lambda2*backward_loss\n",
    "    return loss\n",
    "\n",
    "\n",
    "# Returns the heuristic loss -> E[log D(G)] / 2\n",
    "def generator_loss(D):\n",
    "    return -tf.reduce_mean(tf.nn.sigmoid_cross_entropy_with_logits(logits = D, labels = tf.zeros_like(D)))/2\n",
    "\n",
    "def discriminator_loss(D_real, D_fake):\n",
    "    D_real_loss = tf.reduce_mean(tf.nn.sigmoid_cross_entropy_with_logits(logits = D_real, labels = tf.ones_like(D_real)))\n",
    "    D_fake_loss = tf.reduce_mean(tf.nn.sigmoid_cross_entropy_with_logits(logits = D_fake, labels = tf.zeros_like(D_fake)))\n",
    "    return (D_real_loss + D_fake_loss)/2"
   ]
  },
  {
   "cell_type": "markdown",
   "metadata": {},
   "source": [
    "#### Simulating Data"
   ]
  },
  {
   "cell_type": "code",
   "execution_count": 13,
   "metadata": {},
   "outputs": [
    {
     "data": {
      "text/plain": [
       "<matplotlib.collections.PathCollection at 0x12dae4e80>"
      ]
     },
     "execution_count": 13,
     "metadata": {},
     "output_type": "execute_result"
    },
    {
     "data": {
      "image/png": "[encoded data removed]",
      "text/plain": [
       "<Figure size 432x288 with 1 Axes>"
      ]
     },
     "metadata": {
      "needs_background": "light"
     },
     "output_type": "display_data"
    }
   ],
   "source": [
    "X1, X2 = sample_data(n=20000,scale=2)\n",
    "train_data = np.concatenate([X1,X2],axis=1)\n",
    "plt.scatter(X1[:,0], X1[:,1])\n",
    "# plt.show()\n",
    "plt.scatter(X2[:,0], X2[:,1])"
   ]
  },
  {
   "cell_type": "code",
   "execution_count": 14,
   "metadata": {},
   "outputs": [],
   "source": [
    "reset_graph()\n",
    "\n",
    "sess = tf.Session()\n",
    "\n",
    "nDims = X1.shape[1]\n",
    "\n",
    "X = tf.placeholder(tf.float32, shape=(None,nDims), name = \"X\")\n",
    "Y = tf.placeholder(tf.float32, shape=(None, nDims), name=\"Y\")"
   ]
  },
  {
   "cell_type": "code",
   "execution_count": 11,
   "metadata": {},
   "outputs": [
    {
     "name": "stdout",
     "output_type": "stream",
     "text": [
      "WARNING:tensorflow:From <ipython-input-8-0a7150bcc1b5>:18: dense (from tensorflow.python.layers.core) is deprecated and will be removed in a future version.\n",
      "Instructions for updating:\n",
      "Use keras.layers.dense instead.\n",
      "WARNING:tensorflow:From /Users/Work/anaconda3/envs/condaflow/lib/python3.6/site-packages/tensorflow/python/framework/op_def_library.py:263: colocate_with (from tensorflow.python.framework.ops) is deprecated and will be removed in a future version.\n",
      "Instructions for updating:\n",
      "Colocations handled automatically by placer.\n"
     ]
    }
   ],
   "source": [
    "# Generating forward GAN = G: X -> Y\n",
    "\n",
    "fakeY = generator(X,name=\"G\")\n",
    "D_Y = discriminator(Y, name=\"D_G\")\n",
    "D_G = discriminator(fakeY, name=\"D_G\", reuse=True)\n"
   ]
  },
  {
   "cell_type": "code",
   "execution_count": 15,
   "metadata": {},
   "outputs": [
    {
     "name": "stdout",
     "output_type": "stream",
     "text": [
      "WARNING:tensorflow:From <ipython-input-12-0a7150bcc1b5>:18: dense (from tensorflow.python.layers.core) is deprecated and will be removed in a future version.\n",
      "Instructions for updating:\n",
      "Use keras.layers.dense instead.\n",
      "WARNING:tensorflow:From /Users/Work/anaconda3/envs/condaflow/lib/python3.6/site-packages/tensorflow/python/framework/op_def_library.py:263: colocate_with (from tensorflow.python.framework.ops) is deprecated and will be removed in a future version.\n",
      "Instructions for updating:\n",
      "Colocations handled automatically by placer.\n"
     ]
    }
   ],
   "source": [
    "# Generating backward GAN = F: Y -> X\n",
    "\n",
    "fakeX = generator(Y,name=\"F\")\n",
    "D_X = discriminator(X, name=\"D_F\")\n",
    "D_F = discriminator(fakeX, name=\"D_F\", reuse=True)\n"
   ]
  },
  {
   "cell_type": "code",
   "execution_count": 16,
   "metadata": {},
   "outputs": [
    {
     "ename": "NameError",
     "evalue": "name 'fakeY' is not defined",
     "output_type": "error",
     "traceback": [
      "\u001b[0;31m---------------------------------------------------------------------------\u001b[0m",
      "\u001b[0;31mNameError\u001b[0m                                 Traceback (most recent call last)",
      "\u001b[0;32m<ipython-input-16-fd8bd9c399ad>\u001b[0m in \u001b[0;36m<module>\u001b[0;34m\u001b[0m\n\u001b[1;32m      2\u001b[0m \u001b[0;34m\u001b[0m\u001b[0m\n\u001b[1;32m      3\u001b[0m \u001b[0;31m# Cycle consistency loss\u001b[0m\u001b[0;34m\u001b[0m\u001b[0;34m\u001b[0m\u001b[0;34m\u001b[0m\u001b[0m\n\u001b[0;32m----> 4\u001b[0;31m \u001b[0mG_Fy\u001b[0m \u001b[0;34m=\u001b[0m \u001b[0mgenerator\u001b[0m\u001b[0;34m(\u001b[0m\u001b[0mfakeY\u001b[0m\u001b[0;34m,\u001b[0m \u001b[0mname\u001b[0m\u001b[0;34m=\u001b[0m\u001b[0;34m\"G\"\u001b[0m\u001b[0;34m,\u001b[0m \u001b[0mreuse\u001b[0m \u001b[0;34m=\u001b[0m \u001b[0;32mTrue\u001b[0m\u001b[0;34m)\u001b[0m\u001b[0;34m\u001b[0m\u001b[0;34m\u001b[0m\u001b[0m\n\u001b[0m\u001b[1;32m      5\u001b[0m \u001b[0mF_Gx\u001b[0m \u001b[0;34m=\u001b[0m \u001b[0mgenerator\u001b[0m\u001b[0;34m(\u001b[0m\u001b[0mfakeX\u001b[0m\u001b[0;34m,\u001b[0m \u001b[0mname\u001b[0m\u001b[0;34m=\u001b[0m\u001b[0;34m\"F\"\u001b[0m\u001b[0;34m,\u001b[0m \u001b[0mreuse\u001b[0m \u001b[0;34m=\u001b[0m \u001b[0;32mTrue\u001b[0m\u001b[0;34m)\u001b[0m\u001b[0;34m\u001b[0m\u001b[0;34m\u001b[0m\u001b[0m\n\u001b[1;32m      6\u001b[0m \u001b[0mcycle_loss\u001b[0m \u001b[0;34m=\u001b[0m \u001b[0mcycle_consistency_loss\u001b[0m\u001b[0;34m(\u001b[0m\u001b[0mG_Fy\u001b[0m\u001b[0;34m,\u001b[0m \u001b[0mF_Gx\u001b[0m\u001b[0;34m,\u001b[0m \u001b[0mX\u001b[0m\u001b[0;34m,\u001b[0m \u001b[0mY\u001b[0m\u001b[0;34m)\u001b[0m\u001b[0;34m\u001b[0m\u001b[0;34m\u001b[0m\u001b[0m\n",
      "\u001b[0;31mNameError\u001b[0m: name 'fakeY' is not defined"
     ]
    }
   ],
   "source": [
    "# Calculating all losses\n",
    "\n",
    "# Cycle consistency loss\n",
    "G_Fy = generator(fakeY, name=\"G\", reuse = True)\n",
    "F_Gx = generator(fakeX, name=\"F\", reuse = True)\n",
    "cycle_loss = cycle_consistency_loss(G_Fy, F_Gx, X, Y)\n",
    "\n",
    "# Forward GAN loss\n",
    "G_loss = generator_loss(D_G) + cycle_loss\n",
    "D_Y_loss = discriminator_loss(D_Y, D_G)\n",
    "\n",
    "# Backward GAN loss\n",
    "F_loss = generator_loss(D_F) + cycle_loss\n",
    "D_X_loss = discriminator_loss(D_X, D_F)"
   ]
  },
  {
   "cell_type": "markdown",
   "metadata": {},
   "source": [
    "#### We will make separate optimizers for the 4 neural networks: 2 Generators, 2 Discriminators"
   ]
  },
  {
   "cell_type": "code",
   "execution_count": 116,
   "metadata": {},
   "outputs": [],
   "source": [
    "# Setting up optimizers\n",
    "learning_rate = 0.0001\n",
    "\n",
    "g_vars = tf.get_collection(tf.GraphKeys.TRAINABLE_VARIABLES, scope=\"G\")\n",
    "dg_vars = tf.get_collection(tf.GraphKeys.TRAINABLE_VARIABLES, scope=\"D_G\")\n",
    "\n",
    "f_vars = tf.get_collection(tf.GraphKeys.TRAINABLE_VARIABLES, scope=\"F\")\n",
    "df_vars = tf.get_collection(tf.GraphKeys.TRAINABLE_VARIABLES, scope=\"D_F\")\n",
    "\n",
    "adam = tf.train.AdamOptimizer()\n",
    "\n",
    "trainer_G = adam.minimize(G_loss, var_list= g_vars)\n",
    "trainer_DG = adam.minimize(D_Y_loss, var_list= dg_vars)\n",
    "\n",
    "trainer_F = adam.minimize(F_loss, var_list= f_vars)\n",
    "trainer_DF = adam.minimize(D_X_loss, var_list= df_vars)"
   ]
  },
  {
   "cell_type": "code",
   "execution_count": 117,
   "metadata": {},
   "outputs": [
    {
     "name": "stdout",
     "output_type": "stream",
     "text": [
      "Epoch 0: DYLoss:0.6916, DXLoss:0.7052, GLoss:1.8084, FLoss:1.8335\n",
      "Epoch 1: DYLoss:0.6094, DXLoss:0.6171, GLoss:0.1596, FLoss:0.1572\n",
      "Epoch 2: DYLoss:0.5155, DXLoss:0.5733, GLoss:-0.0254, FLoss:-0.0350\n",
      "Epoch 3: DYLoss:0.4333, DXLoss:0.6070, GLoss:-0.0827, FLoss:-0.1590\n",
      "Epoch 4: DYLoss:0.4863, DXLoss:0.6487, GLoss:-0.1118, FLoss:-0.1848\n",
      "Epoch 5: DYLoss:0.5830, DXLoss:0.6574, GLoss:-0.1794, FLoss:-0.2097\n",
      "Epoch 6: DYLoss:0.7333, DXLoss:0.6564, GLoss:-0.2119, FLoss:-0.1739\n",
      "Epoch 7: DYLoss:0.7254, DXLoss:0.6545, GLoss:-0.2066, FLoss:-0.1605\n",
      "Epoch 8: DYLoss:0.7016, DXLoss:0.6656, GLoss:-0.2539, FLoss:-0.2233\n",
      "Epoch 9: DYLoss:0.6985, DXLoss:0.6656, GLoss:-0.2734, FLoss:-0.2706\n",
      "Epoch 10: DYLoss:0.6952, DXLoss:0.6620, GLoss:-0.2823, FLoss:-0.2670\n",
      "Epoch 11: DYLoss:0.6965, DXLoss:0.6745, GLoss:-0.2934, FLoss:-0.2819\n",
      "Epoch 12: DYLoss:0.6942, DXLoss:0.6672, GLoss:-0.2842, FLoss:-0.2895\n",
      "Epoch 13: DYLoss:0.6938, DXLoss:0.6675, GLoss:-0.2924, FLoss:-0.2907\n",
      "Epoch 14: DYLoss:0.6924, DXLoss:0.6632, GLoss:-0.2793, FLoss:-0.2775\n",
      "Epoch 15: DYLoss:0.6942, DXLoss:0.6634, GLoss:-0.3084, FLoss:-0.3038\n",
      "Epoch 16: DYLoss:0.6928, DXLoss:0.6574, GLoss:-0.3025, FLoss:-0.2787\n",
      "Epoch 17: DYLoss:0.6901, DXLoss:0.6593, GLoss:-0.2933, FLoss:-0.2739\n",
      "Epoch 18: DYLoss:0.6912, DXLoss:0.6665, GLoss:-0.3041, FLoss:-0.3014\n",
      "Epoch 19: DYLoss:0.6908, DXLoss:0.6592, GLoss:-0.3019, FLoss:-0.2842\n",
      "Epoch 20: DYLoss:0.6916, DXLoss:0.6729, GLoss:-0.3132, FLoss:-0.3157\n",
      "Epoch 21: DYLoss:0.6906, DXLoss:0.6523, GLoss:-0.3045, FLoss:-0.2741\n",
      "Epoch 22: DYLoss:0.6907, DXLoss:0.6459, GLoss:-0.3008, FLoss:-0.2749\n",
      "Epoch 23: DYLoss:0.6901, DXLoss:0.6584, GLoss:-0.3000, FLoss:-0.2873\n",
      "Epoch 24: DYLoss:0.6889, DXLoss:0.6494, GLoss:-0.3157, FLoss:-0.2973\n",
      "Epoch 25: DYLoss:0.6880, DXLoss:0.6571, GLoss:-0.3056, FLoss:-0.2847\n",
      "Epoch 26: DYLoss:0.6850, DXLoss:0.6507, GLoss:-0.3182, FLoss:-0.3091\n",
      "Epoch 27: DYLoss:0.6826, DXLoss:0.6475, GLoss:-0.2895, FLoss:-0.2634\n",
      "Epoch 28: DYLoss:0.6774, DXLoss:0.6528, GLoss:-0.2899, FLoss:-0.2803\n",
      "Epoch 29: DYLoss:0.6805, DXLoss:0.6527, GLoss:-0.3063, FLoss:-0.2970\n"
     ]
    }
   ],
   "source": [
    "sess.run(tf.global_variables_initializer())\n",
    "batch_size = 100\n",
    "for epoch in range(30):\n",
    "  epoch_dLoss=0\n",
    "  epoch_gLoss=0\n",
    "  for i,batch in enumerate(shuffle_batch(train_data, batch_size)):\n",
    "    # train\n",
    "    X_batch = batch[:,:2]\n",
    "    Y_batch = batch[:,2:]\n",
    "\n",
    "    _, D_Y_loss_val, _ , D_X_loss_val = sess.run([trainer_DG, D_Y_loss, trainer_DF, D_X_loss],\n",
    "                                            feed_dict={X: X_batch, Y: Y_batch})\n",
    "\n",
    "    _, G_loss_val, _, F_loss_val = sess.run([trainer_G, G_loss, trainer_F, F_loss],\n",
    "                                         feed_dict={X: X_batch, Y: Y_batch})\n",
    "\n",
    "  print(\"Epoch {}: DYLoss:{:.4f}, DXLoss:{:.4f}, GLoss:{:.4f}, FLoss:{:.4f}\".format(epoch, D_Y_loss_val, D_X_loss_val, G_loss_val, F_loss_val))"
   ]
  },
  {
   "cell_type": "code",
   "execution_count": 118,
   "metadata": {},
   "outputs": [
    {
     "data": {
      "text/plain": [
       "<matplotlib.collections.PathCollection at 0x13ace7208>"
      ]
     },
     "execution_count": 118,
     "metadata": {},
     "output_type": "execute_result"
    },
    {
     "data": {
      "image/png": "[encoded data removed]",
      "text/plain": [
       "<Figure size 432x288 with 1 Axes>"
      ]
     },
     "metadata": {
      "needs_background": "light"
     },
     "output_type": "display_data"
    }
   ],
   "source": [
    "generatedX = generator(Y,name=\"F\",reuse=True)\n",
    "temp = sess.run([generatedX], feed_dict={Y:X2})\n",
    "\n",
    "genX = temp[0]\n",
    "plt.scatter(X1[:,0], X1[:,1],marker=\".\",alpha=0.1)\n",
    "plt.scatter(genX[:,0], genX[:,1],marker=\".\",alpha=0.1)"
   ]
  },
  {
   "cell_type": "code",
   "execution_count": 120,
   "metadata": {},
   "outputs": [
    {
     "data": {
      "text/plain": [
       "<matplotlib.collections.PathCollection at 0x13ee807b8>"
      ]
     },
     "execution_count": 120,
     "metadata": {},
     "output_type": "execute_result"
    },
    {
     "data": {
      "image/png": "[encoded data removed]",
      "text/plain": [
       "<Figure size 432x288 with 1 Axes>"
      ]
     },
     "metadata": {
      "needs_background": "light"
     },
     "output_type": "display_data"
    }
   ],
   "source": [
    "generatedY = generator(X,name=\"G\",reuse=True)\n",
    "temp = sess.run([generatedY], feed_dict={X:X1})\n",
    "\n",
    "genY = temp[0]\n",
    "plt.scatter(X2[:,0], X2[:,1],marker=\".\",alpha=0.1)\n",
    "plt.scatter(genY[:,0], genY[:,1],marker=\".\",alpha=0.1)"
   ]
  },
  {
   "cell_type": "code",
   "execution_count": null,
   "metadata": {},
   "outputs": [],
   "source": []
  },
  {
   "cell_type": "code",
   "execution_count": 47,
   "metadata": {},
   "outputs": [
    {
     "data": {
      "text/plain": [
       "[None, 151.59767]"
      ]
     },
     "execution_count": 47,
     "metadata": {},
     "output_type": "execute_result"
    }
   ],
   "source": [
    "sess.run([trainer_DG, D_Y_loss], feed_dict={X: X_batch, Y: Y_batch})"
   ]
  },
  {
   "cell_type": "code",
   "execution_count": 17,
   "metadata": {},
   "outputs": [
    {
     "ename": "NameError",
     "evalue": "name 'trainer_DG' is not defined",
     "output_type": "error",
     "traceback": [
      "\u001b[0;31m---------------------------------------------------------------------------\u001b[0m",
      "\u001b[0;31mNameError\u001b[0m                                 Traceback (most recent call last)",
      "\u001b[0;32m<ipython-input-17-025758463556>\u001b[0m in \u001b[0;36m<module>\u001b[0;34m\u001b[0m\n\u001b[0;32m----> 1\u001b[0;31m \u001b[0msess\u001b[0m\u001b[0;34m.\u001b[0m\u001b[0mrun\u001b[0m\u001b[0;34m(\u001b[0m\u001b[0;34m[\u001b[0m\u001b[0mtrainer_DG\u001b[0m\u001b[0;34m,\u001b[0m \u001b[0mD_Y_loss\u001b[0m\u001b[0;34m]\u001b[0m\u001b[0;34m,\u001b[0m \u001b[0mfeed_dict\u001b[0m\u001b[0;34m=\u001b[0m\u001b[0;34m{\u001b[0m\u001b[0mX\u001b[0m\u001b[0;34m:\u001b[0m \u001b[0mX_batch\u001b[0m\u001b[0;34m,\u001b[0m \u001b[0mY\u001b[0m\u001b[0;34m:\u001b[0m \u001b[0mY_batch\u001b[0m\u001b[0;34m}\u001b[0m\u001b[0;34m)\u001b[0m\u001b[0;34m\u001b[0m\u001b[0;34m\u001b[0m\u001b[0m\n\u001b[0m",
      "\u001b[0;31mNameError\u001b[0m: name 'trainer_DG' is not defined"
     ]
    }
   ],
   "source": [
    "sess.run([trainer_DG, D_Y_loss], feed_dict={X: X_batch, Y: Y_batch})"
   ]
  },
  {
   "cell_type": "code",
   "execution_count": 20,
   "metadata": {},
   "outputs": [],
   "source": [
    "from generator import Generator\n",
    "\n",
    "GF = Generator(\"GF_pls\")"
   ]
  },
  {
   "cell_type": "code",
   "execution_count": 23,
   "metadata": {},
   "outputs": [
    {
     "ename": "FailedPreconditionError",
     "evalue": "Attempting to use uninitialized value GF_pls/g_logits/bias\n\t [[node GF_pls/g_logits/bias/read (defined at /Users/Work/Developer/roboGAN/generator.py:24) ]]\n\nCaused by op 'GF_pls/g_logits/bias/read', defined at:\n  File \"/Users/Work/anaconda3/envs/condaflow/lib/python3.6/runpy.py\", line 193, in _run_module_as_main\n    \"__main__\", mod_spec)\n  File \"/Users/Work/anaconda3/envs/condaflow/lib/python3.6/runpy.py\", line 85, in _run_code\n    exec(code, run_globals)\n  File \"/Users/Work/anaconda3/envs/condaflow/lib/python3.6/site-packages/ipykernel_launcher.py\", line 16, in <module>\n    app.launch_new_instance()\n  File \"/Users/Work/anaconda3/envs/condaflow/lib/python3.6/site-packages/traitlets/config/application.py\", line 658, in launch_instance\n    app.start()\n  File \"/Users/Work/anaconda3/envs/condaflow/lib/python3.6/site-packages/ipykernel/kernelapp.py\", line 505, in start\n    self.io_loop.start()\n  File \"/Users/Work/anaconda3/envs/condaflow/lib/python3.6/site-packages/tornado/platform/asyncio.py\", line 132, in start\n    self.asyncio_loop.run_forever()\n  File \"/Users/Work/anaconda3/envs/condaflow/lib/python3.6/asyncio/base_events.py\", line 438, in run_forever\n    self._run_once()\n  File \"/Users/Work/anaconda3/envs/condaflow/lib/python3.6/asyncio/base_events.py\", line 1451, in _run_once\n    handle._run()\n  File \"/Users/Work/anaconda3/envs/condaflow/lib/python3.6/asyncio/events.py\", line 145, in _run\n    self._callback(*self._args)\n  File \"/Users/Work/anaconda3/envs/condaflow/lib/python3.6/site-packages/tornado/ioloop.py\", line 758, in _run_callback\n    ret = callback()\n  File \"/Users/Work/anaconda3/envs/condaflow/lib/python3.6/site-packages/tornado/stack_context.py\", line 300, in null_wrapper\n    return fn(*args, **kwargs)\n  File \"/Users/Work/anaconda3/envs/condaflow/lib/python3.6/site-packages/tornado/gen.py\", line 1233, in inner\n    self.run()\n  File \"/Users/Work/anaconda3/envs/condaflow/lib/python3.6/site-packages/tornado/gen.py\", line 1147, in run\n    yielded = self.gen.send(value)\n  File \"/Users/Work/anaconda3/envs/condaflow/lib/python3.6/site-packages/ipykernel/kernelbase.py\", line 357, in process_one\n    yield gen.maybe_future(dispatch(*args))\n  File \"/Users/Work/anaconda3/envs/condaflow/lib/python3.6/site-packages/tornado/gen.py\", line 326, in wrapper\n    yielded = next(result)\n  File \"/Users/Work/anaconda3/envs/condaflow/lib/python3.6/site-packages/ipykernel/kernelbase.py\", line 267, in dispatch_shell\n    yield gen.maybe_future(handler(stream, idents, msg))\n  File \"/Users/Work/anaconda3/envs/condaflow/lib/python3.6/site-packages/tornado/gen.py\", line 326, in wrapper\n    yielded = next(result)\n  File \"/Users/Work/anaconda3/envs/condaflow/lib/python3.6/site-packages/ipykernel/kernelbase.py\", line 534, in execute_request\n    user_expressions, allow_stdin,\n  File \"/Users/Work/anaconda3/envs/condaflow/lib/python3.6/site-packages/tornado/gen.py\", line 326, in wrapper\n    yielded = next(result)\n  File \"/Users/Work/anaconda3/envs/condaflow/lib/python3.6/site-packages/ipykernel/ipkernel.py\", line 294, in do_execute\n    res = shell.run_cell(code, store_history=store_history, silent=silent)\n  File \"/Users/Work/anaconda3/envs/condaflow/lib/python3.6/site-packages/ipykernel/zmqshell.py\", line 536, in run_cell\n    return super(ZMQInteractiveShell, self).run_cell(*args, **kwargs)\n  File \"/Users/Work/anaconda3/envs/condaflow/lib/python3.6/site-packages/IPython/core/interactiveshell.py\", line 2819, in run_cell\n    raw_cell, store_history, silent, shell_futures)\n  File \"/Users/Work/anaconda3/envs/condaflow/lib/python3.6/site-packages/IPython/core/interactiveshell.py\", line 2845, in _run_cell\n    return runner(coro)\n  File \"/Users/Work/anaconda3/envs/condaflow/lib/python3.6/site-packages/IPython/core/async_helpers.py\", line 67, in _pseudo_sync_runner\n    coro.send(None)\n  File \"/Users/Work/anaconda3/envs/condaflow/lib/python3.6/site-packages/IPython/core/interactiveshell.py\", line 3020, in run_cell_async\n    interactivity=interactivity, compiler=compiler, result=result)\n  File \"/Users/Work/anaconda3/envs/condaflow/lib/python3.6/site-packages/IPython/core/interactiveshell.py\", line 3191, in run_ast_nodes\n    if (yield from self.run_code(code, result)):\n  File \"/Users/Work/anaconda3/envs/condaflow/lib/python3.6/site-packages/IPython/core/interactiveshell.py\", line 3267, in run_code\n    exec(code_obj, self.user_global_ns, self.user_ns)\n  File \"<ipython-input-22-cabec38bc917>\", line 1, in <module>\n    GF(X)\n  File \"/Users/Work/Developer/roboGAN/generator.py\", line 24, in __call__\n    logits = tf.layers.dense(hidden2, self.output_dim, name = \"g_logits\" )\n  File \"/Users/Work/anaconda3/envs/condaflow/lib/python3.6/site-packages/tensorflow/python/util/deprecation.py\", line 324, in new_func\n    return func(*args, **kwargs)\n  File \"/Users/Work/anaconda3/envs/condaflow/lib/python3.6/site-packages/tensorflow/python/layers/core.py\", line 188, in dense\n    return layer.apply(inputs)\n  File \"/Users/Work/anaconda3/envs/condaflow/lib/python3.6/site-packages/tensorflow/python/keras/engine/base_layer.py\", line 1227, in apply\n    return self.__call__(inputs, *args, **kwargs)\n  File \"/Users/Work/anaconda3/envs/condaflow/lib/python3.6/site-packages/tensorflow/python/layers/base.py\", line 530, in __call__\n    outputs = super(Layer, self).__call__(inputs, *args, **kwargs)\n  File \"/Users/Work/anaconda3/envs/condaflow/lib/python3.6/site-packages/tensorflow/python/keras/engine/base_layer.py\", line 538, in __call__\n    self._maybe_build(inputs)\n  File \"/Users/Work/anaconda3/envs/condaflow/lib/python3.6/site-packages/tensorflow/python/keras/engine/base_layer.py\", line 1603, in _maybe_build\n    self.build(input_shapes)\n  File \"/Users/Work/anaconda3/envs/condaflow/lib/python3.6/site-packages/tensorflow/python/keras/layers/core.py\", line 958, in build\n    trainable=True)\n  File \"/Users/Work/anaconda3/envs/condaflow/lib/python3.6/site-packages/tensorflow/python/layers/base.py\", line 435, in add_weight\n    getter=vs.get_variable)\n  File \"/Users/Work/anaconda3/envs/condaflow/lib/python3.6/site-packages/tensorflow/python/keras/engine/base_layer.py\", line 349, in add_weight\n    aggregation=aggregation)\n  File \"/Users/Work/anaconda3/envs/condaflow/lib/python3.6/site-packages/tensorflow/python/training/checkpointable/base.py\", line 607, in _add_variable_with_custom_getter\n    **kwargs_for_getter)\n  File \"/Users/Work/anaconda3/envs/condaflow/lib/python3.6/site-packages/tensorflow/python/ops/variable_scope.py\", line 1479, in get_variable\n    aggregation=aggregation)\n  File \"/Users/Work/anaconda3/envs/condaflow/lib/python3.6/site-packages/tensorflow/python/ops/variable_scope.py\", line 1220, in get_variable\n    aggregation=aggregation)\n  File \"/Users/Work/anaconda3/envs/condaflow/lib/python3.6/site-packages/tensorflow/python/ops/variable_scope.py\", line 547, in get_variable\n    aggregation=aggregation)\n  File \"/Users/Work/anaconda3/envs/condaflow/lib/python3.6/site-packages/tensorflow/python/ops/variable_scope.py\", line 499, in _true_getter\n    aggregation=aggregation)\n  File \"/Users/Work/anaconda3/envs/condaflow/lib/python3.6/site-packages/tensorflow/python/ops/variable_scope.py\", line 911, in _get_single_variable\n    aggregation=aggregation)\n  File \"/Users/Work/anaconda3/envs/condaflow/lib/python3.6/site-packages/tensorflow/python/ops/variables.py\", line 213, in __call__\n    return cls._variable_v1_call(*args, **kwargs)\n  File \"/Users/Work/anaconda3/envs/condaflow/lib/python3.6/site-packages/tensorflow/python/ops/variables.py\", line 176, in _variable_v1_call\n    aggregation=aggregation)\n  File \"/Users/Work/anaconda3/envs/condaflow/lib/python3.6/site-packages/tensorflow/python/ops/variables.py\", line 155, in <lambda>\n    previous_getter = lambda **kwargs: default_variable_creator(None, **kwargs)\n  File \"/Users/Work/anaconda3/envs/condaflow/lib/python3.6/site-packages/tensorflow/python/ops/variable_scope.py\", line 2495, in default_variable_creator\n    expected_shape=expected_shape, import_scope=import_scope)\n  File \"/Users/Work/anaconda3/envs/condaflow/lib/python3.6/site-packages/tensorflow/python/ops/variables.py\", line 217, in __call__\n    return super(VariableMetaclass, cls).__call__(*args, **kwargs)\n  File \"/Users/Work/anaconda3/envs/condaflow/lib/python3.6/site-packages/tensorflow/python/ops/variables.py\", line 1395, in __init__\n    constraint=constraint)\n  File \"/Users/Work/anaconda3/envs/condaflow/lib/python3.6/site-packages/tensorflow/python/ops/variables.py\", line 1557, in _init_from_args\n    self._snapshot = array_ops.identity(self._variable, name=\"read\")\n  File \"/Users/Work/anaconda3/envs/condaflow/lib/python3.6/site-packages/tensorflow/python/util/dispatch.py\", line 180, in wrapper\n    return target(*args, **kwargs)\n  File \"/Users/Work/anaconda3/envs/condaflow/lib/python3.6/site-packages/tensorflow/python/ops/array_ops.py\", line 81, in identity\n    ret = gen_array_ops.identity(input, name=name)\n  File \"/Users/Work/anaconda3/envs/condaflow/lib/python3.6/site-packages/tensorflow/python/ops/gen_array_ops.py\", line 3890, in identity\n    \"Identity\", input=input, name=name)\n  File \"/Users/Work/anaconda3/envs/condaflow/lib/python3.6/site-packages/tensorflow/python/framework/op_def_library.py\", line 788, in _apply_op_helper\n    op_def=op_def)\n  File \"/Users/Work/anaconda3/envs/condaflow/lib/python3.6/site-packages/tensorflow/python/util/deprecation.py\", line 507, in new_func\n    return func(*args, **kwargs)\n  File \"/Users/Work/anaconda3/envs/condaflow/lib/python3.6/site-packages/tensorflow/python/framework/ops.py\", line 3300, in create_op\n    op_def=op_def)\n  File \"/Users/Work/anaconda3/envs/condaflow/lib/python3.6/site-packages/tensorflow/python/framework/ops.py\", line 1801, in __init__\n    self._traceback = tf_stack.extract_stack()\n\nFailedPreconditionError (see above for traceback): Attempting to use uninitialized value GF_pls/g_logits/bias\n\t [[node GF_pls/g_logits/bias/read (defined at /Users/Work/Developer/roboGAN/generator.py:24) ]]\n",
     "output_type": "error",
     "traceback": [
      "\u001b[0;31m---------------------------------------------------------------------------\u001b[0m",
      "\u001b[0;31mFailedPreconditionError\u001b[0m                   Traceback (most recent call last)",
      "\u001b[0;32m~/anaconda3/envs/condaflow/lib/python3.6/site-packages/tensorflow/python/client/session.py\u001b[0m in \u001b[0;36m_do_call\u001b[0;34m(self, fn, *args)\u001b[0m\n\u001b[1;32m   1333\u001b[0m     \u001b[0;32mtry\u001b[0m\u001b[0;34m:\u001b[0m\u001b[0;34m\u001b[0m\u001b[0;34m\u001b[0m\u001b[0m\n\u001b[0;32m-> 1334\u001b[0;31m       \u001b[0;32mreturn\u001b[0m \u001b[0mfn\u001b[0m\u001b[0;34m(\u001b[0m\u001b[0;34m*\u001b[0m\u001b[0margs\u001b[0m\u001b[0;34m)\u001b[0m\u001b[0;34m\u001b[0m\u001b[0;34m\u001b[0m\u001b[0m\n\u001b[0m\u001b[1;32m   1335\u001b[0m     \u001b[0;32mexcept\u001b[0m \u001b[0merrors\u001b[0m\u001b[0;34m.\u001b[0m\u001b[0mOpError\u001b[0m \u001b[0;32mas\u001b[0m \u001b[0me\u001b[0m\u001b[0;34m:\u001b[0m\u001b[0;34m\u001b[0m\u001b[0;34m\u001b[0m\u001b[0m\n",
      "\u001b[0;32m~/anaconda3/envs/condaflow/lib/python3.6/site-packages/tensorflow/python/client/session.py\u001b[0m in \u001b[0;36m_run_fn\u001b[0;34m(feed_dict, fetch_list, target_list, options, run_metadata)\u001b[0m\n\u001b[1;32m   1318\u001b[0m       return self._call_tf_sessionrun(\n\u001b[0;32m-> 1319\u001b[0;31m           options, feed_dict, fetch_list, target_list, run_metadata)\n\u001b[0m\u001b[1;32m   1320\u001b[0m \u001b[0;34m\u001b[0m\u001b[0m\n",
      "\u001b[0;32m~/anaconda3/envs/condaflow/lib/python3.6/site-packages/tensorflow/python/client/session.py\u001b[0m in \u001b[0;36m_call_tf_sessionrun\u001b[0;34m(self, options, feed_dict, fetch_list, target_list, run_metadata)\u001b[0m\n\u001b[1;32m   1406\u001b[0m         \u001b[0mself\u001b[0m\u001b[0;34m.\u001b[0m\u001b[0m_session\u001b[0m\u001b[0;34m,\u001b[0m \u001b[0moptions\u001b[0m\u001b[0;34m,\u001b[0m \u001b[0mfeed_dict\u001b[0m\u001b[0;34m,\u001b[0m \u001b[0mfetch_list\u001b[0m\u001b[0;34m,\u001b[0m \u001b[0mtarget_list\u001b[0m\u001b[0;34m,\u001b[0m\u001b[0;34m\u001b[0m\u001b[0;34m\u001b[0m\u001b[0m\n\u001b[0;32m-> 1407\u001b[0;31m         run_metadata)\n\u001b[0m\u001b[1;32m   1408\u001b[0m \u001b[0;34m\u001b[0m\u001b[0m\n",
      "\u001b[0;31mFailedPreconditionError\u001b[0m: Attempting to use uninitialized value GF_pls/g_logits/bias\n\t [[{{node GF_pls/g_logits/bias/read}}]]",
      "\nDuring handling of the above exception, another exception occurred:\n",
      "\u001b[0;31mFailedPreconditionError\u001b[0m                   Traceback (most recent call last)",
      "\u001b[0;32m<ipython-input-23-2e0b5b53439a>\u001b[0m in \u001b[0;36m<module>\u001b[0;34m\u001b[0m\n\u001b[1;32m      1\u001b[0m \u001b[0mgf\u001b[0m \u001b[0;34m=\u001b[0m \u001b[0mGF\u001b[0m\u001b[0;34m(\u001b[0m\u001b[0mX\u001b[0m\u001b[0;34m)\u001b[0m\u001b[0;34m\u001b[0m\u001b[0;34m\u001b[0m\u001b[0m\n\u001b[0;32m----> 2\u001b[0;31m \u001b[0msess\u001b[0m\u001b[0;34m.\u001b[0m\u001b[0mrun\u001b[0m\u001b[0;34m(\u001b[0m\u001b[0;34m[\u001b[0m\u001b[0mgf\u001b[0m\u001b[0;34m]\u001b[0m\u001b[0;34m,\u001b[0m \u001b[0mfeed_dict\u001b[0m \u001b[0;34m=\u001b[0m\u001b[0;34m{\u001b[0m\u001b[0mX\u001b[0m\u001b[0;34m:\u001b[0m\u001b[0mX1\u001b[0m\u001b[0;34m}\u001b[0m\u001b[0;34m)\u001b[0m\u001b[0;34m\u001b[0m\u001b[0;34m\u001b[0m\u001b[0m\n\u001b[0m",
      "\u001b[0;32m~/anaconda3/envs/condaflow/lib/python3.6/site-packages/tensorflow/python/client/session.py\u001b[0m in \u001b[0;36mrun\u001b[0;34m(self, fetches, feed_dict, options, run_metadata)\u001b[0m\n\u001b[1;32m    927\u001b[0m     \u001b[0;32mtry\u001b[0m\u001b[0;34m:\u001b[0m\u001b[0;34m\u001b[0m\u001b[0;34m\u001b[0m\u001b[0m\n\u001b[1;32m    928\u001b[0m       result = self._run(None, fetches, feed_dict, options_ptr,\n\u001b[0;32m--> 929\u001b[0;31m                          run_metadata_ptr)\n\u001b[0m\u001b[1;32m    930\u001b[0m       \u001b[0;32mif\u001b[0m \u001b[0mrun_metadata\u001b[0m\u001b[0;34m:\u001b[0m\u001b[0;34m\u001b[0m\u001b[0;34m\u001b[0m\u001b[0m\n\u001b[1;32m    931\u001b[0m         \u001b[0mproto_data\u001b[0m \u001b[0;34m=\u001b[0m \u001b[0mtf_session\u001b[0m\u001b[0;34m.\u001b[0m\u001b[0mTF_GetBuffer\u001b[0m\u001b[0;34m(\u001b[0m\u001b[0mrun_metadata_ptr\u001b[0m\u001b[0;34m)\u001b[0m\u001b[0;34m\u001b[0m\u001b[0;34m\u001b[0m\u001b[0m\n",
      "\u001b[0;32m~/anaconda3/envs/condaflow/lib/python3.6/site-packages/tensorflow/python/client/session.py\u001b[0m in \u001b[0;36m_run\u001b[0;34m(self, handle, fetches, feed_dict, options, run_metadata)\u001b[0m\n\u001b[1;32m   1150\u001b[0m     \u001b[0;32mif\u001b[0m \u001b[0mfinal_fetches\u001b[0m \u001b[0;32mor\u001b[0m \u001b[0mfinal_targets\u001b[0m \u001b[0;32mor\u001b[0m \u001b[0;34m(\u001b[0m\u001b[0mhandle\u001b[0m \u001b[0;32mand\u001b[0m \u001b[0mfeed_dict_tensor\u001b[0m\u001b[0;34m)\u001b[0m\u001b[0;34m:\u001b[0m\u001b[0;34m\u001b[0m\u001b[0;34m\u001b[0m\u001b[0m\n\u001b[1;32m   1151\u001b[0m       results = self._do_run(handle, final_targets, final_fetches,\n\u001b[0;32m-> 1152\u001b[0;31m                              feed_dict_tensor, options, run_metadata)\n\u001b[0m\u001b[1;32m   1153\u001b[0m     \u001b[0;32melse\u001b[0m\u001b[0;34m:\u001b[0m\u001b[0;34m\u001b[0m\u001b[0;34m\u001b[0m\u001b[0m\n\u001b[1;32m   1154\u001b[0m       \u001b[0mresults\u001b[0m \u001b[0;34m=\u001b[0m \u001b[0;34m[\u001b[0m\u001b[0;34m]\u001b[0m\u001b[0;34m\u001b[0m\u001b[0;34m\u001b[0m\u001b[0m\n",
      "\u001b[0;32m~/anaconda3/envs/condaflow/lib/python3.6/site-packages/tensorflow/python/client/session.py\u001b[0m in \u001b[0;36m_do_run\u001b[0;34m(self, handle, target_list, fetch_list, feed_dict, options, run_metadata)\u001b[0m\n\u001b[1;32m   1326\u001b[0m     \u001b[0;32mif\u001b[0m \u001b[0mhandle\u001b[0m \u001b[0;32mis\u001b[0m \u001b[0;32mNone\u001b[0m\u001b[0;34m:\u001b[0m\u001b[0;34m\u001b[0m\u001b[0;34m\u001b[0m\u001b[0m\n\u001b[1;32m   1327\u001b[0m       return self._do_call(_run_fn, feeds, fetches, targets, options,\n\u001b[0;32m-> 1328\u001b[0;31m                            run_metadata)\n\u001b[0m\u001b[1;32m   1329\u001b[0m     \u001b[0;32melse\u001b[0m\u001b[0;34m:\u001b[0m\u001b[0;34m\u001b[0m\u001b[0;34m\u001b[0m\u001b[0m\n\u001b[1;32m   1330\u001b[0m       \u001b[0;32mreturn\u001b[0m \u001b[0mself\u001b[0m\u001b[0;34m.\u001b[0m\u001b[0m_do_call\u001b[0m\u001b[0;34m(\u001b[0m\u001b[0m_prun_fn\u001b[0m\u001b[0;34m,\u001b[0m \u001b[0mhandle\u001b[0m\u001b[0;34m,\u001b[0m \u001b[0mfeeds\u001b[0m\u001b[0;34m,\u001b[0m \u001b[0mfetches\u001b[0m\u001b[0;34m)\u001b[0m\u001b[0;34m\u001b[0m\u001b[0;34m\u001b[0m\u001b[0m\n",
      "\u001b[0;32m~/anaconda3/envs/condaflow/lib/python3.6/site-packages/tensorflow/python/client/session.py\u001b[0m in \u001b[0;36m_do_call\u001b[0;34m(self, fn, *args)\u001b[0m\n\u001b[1;32m   1346\u001b[0m           \u001b[0;32mpass\u001b[0m\u001b[0;34m\u001b[0m\u001b[0;34m\u001b[0m\u001b[0m\n\u001b[1;32m   1347\u001b[0m       \u001b[0mmessage\u001b[0m \u001b[0;34m=\u001b[0m \u001b[0merror_interpolation\u001b[0m\u001b[0;34m.\u001b[0m\u001b[0minterpolate\u001b[0m\u001b[0;34m(\u001b[0m\u001b[0mmessage\u001b[0m\u001b[0;34m,\u001b[0m \u001b[0mself\u001b[0m\u001b[0;34m.\u001b[0m\u001b[0m_graph\u001b[0m\u001b[0;34m)\u001b[0m\u001b[0;34m\u001b[0m\u001b[0;34m\u001b[0m\u001b[0m\n\u001b[0;32m-> 1348\u001b[0;31m       \u001b[0;32mraise\u001b[0m \u001b[0mtype\u001b[0m\u001b[0;34m(\u001b[0m\u001b[0me\u001b[0m\u001b[0;34m)\u001b[0m\u001b[0;34m(\u001b[0m\u001b[0mnode_def\u001b[0m\u001b[0;34m,\u001b[0m \u001b[0mop\u001b[0m\u001b[0;34m,\u001b[0m \u001b[0mmessage\u001b[0m\u001b[0;34m)\u001b[0m\u001b[0;34m\u001b[0m\u001b[0;34m\u001b[0m\u001b[0m\n\u001b[0m\u001b[1;32m   1349\u001b[0m \u001b[0;34m\u001b[0m\u001b[0m\n\u001b[1;32m   1350\u001b[0m   \u001b[0;32mdef\u001b[0m \u001b[0m_extend_graph\u001b[0m\u001b[0;34m(\u001b[0m\u001b[0mself\u001b[0m\u001b[0;34m)\u001b[0m\u001b[0;34m:\u001b[0m\u001b[0;34m\u001b[0m\u001b[0;34m\u001b[0m\u001b[0m\n",
      "\u001b[0;31mFailedPreconditionError\u001b[0m: Attempting to use uninitialized value GF_pls/g_logits/bias\n\t [[node GF_pls/g_logits/bias/read (defined at /Users/Work/Developer/roboGAN/generator.py:24) ]]\n\nCaused by op 'GF_pls/g_logits/bias/read', defined at:\n  File \"/Users/Work/anaconda3/envs/condaflow/lib/python3.6/runpy.py\", line 193, in _run_module_as_main\n    \"__main__\", mod_spec)\n  File \"/Users/Work/anaconda3/envs/condaflow/lib/python3.6/runpy.py\", line 85, in _run_code\n    exec(code, run_globals)\n  File \"/Users/Work/anaconda3/envs/condaflow/lib/python3.6/site-packages/ipykernel_launcher.py\", line 16, in <module>\n    app.launch_new_instance()\n  File \"/Users/Work/anaconda3/envs/condaflow/lib/python3.6/site-packages/traitlets/config/application.py\", line 658, in launch_instance\n    app.start()\n  File \"/Users/Work/anaconda3/envs/condaflow/lib/python3.6/site-packages/ipykernel/kernelapp.py\", line 505, in start\n    self.io_loop.start()\n  File \"/Users/Work/anaconda3/envs/condaflow/lib/python3.6/site-packages/tornado/platform/asyncio.py\", line 132, in start\n    self.asyncio_loop.run_forever()\n  File \"/Users/Work/anaconda3/envs/condaflow/lib/python3.6/asyncio/base_events.py\", line 438, in run_forever\n    self._run_once()\n  File \"/Users/Work/anaconda3/envs/condaflow/lib/python3.6/asyncio/base_events.py\", line 1451, in _run_once\n    handle._run()\n  File \"/Users/Work/anaconda3/envs/condaflow/lib/python3.6/asyncio/events.py\", line 145, in _run\n    self._callback(*self._args)\n  File \"/Users/Work/anaconda3/envs/condaflow/lib/python3.6/site-packages/tornado/ioloop.py\", line 758, in _run_callback\n    ret = callback()\n  File \"/Users/Work/anaconda3/envs/condaflow/lib/python3.6/site-packages/tornado/stack_context.py\", line 300, in null_wrapper\n    return fn(*args, **kwargs)\n  File \"/Users/Work/anaconda3/envs/condaflow/lib/python3.6/site-packages/tornado/gen.py\", line 1233, in inner\n    self.run()\n  File \"/Users/Work/anaconda3/envs/condaflow/lib/python3.6/site-packages/tornado/gen.py\", line 1147, in run\n    yielded = self.gen.send(value)\n  File \"/Users/Work/anaconda3/envs/condaflow/lib/python3.6/site-packages/ipykernel/kernelbase.py\", line 357, in process_one\n    yield gen.maybe_future(dispatch(*args))\n  File \"/Users/Work/anaconda3/envs/condaflow/lib/python3.6/site-packages/tornado/gen.py\", line 326, in wrapper\n    yielded = next(result)\n  File \"/Users/Work/anaconda3/envs/condaflow/lib/python3.6/site-packages/ipykernel/kernelbase.py\", line 267, in dispatch_shell\n    yield gen.maybe_future(handler(stream, idents, msg))\n  File \"/Users/Work/anaconda3/envs/condaflow/lib/python3.6/site-packages/tornado/gen.py\", line 326, in wrapper\n    yielded = next(result)\n  File \"/Users/Work/anaconda3/envs/condaflow/lib/python3.6/site-packages/ipykernel/kernelbase.py\", line 534, in execute_request\n    user_expressions, allow_stdin,\n  File \"/Users/Work/anaconda3/envs/condaflow/lib/python3.6/site-packages/tornado/gen.py\", line 326, in wrapper\n    yielded = next(result)\n  File \"/Users/Work/anaconda3/envs/condaflow/lib/python3.6/site-packages/ipykernel/ipkernel.py\", line 294, in do_execute\n    res = shell.run_cell(code, store_history=store_history, silent=silent)\n  File \"/Users/Work/anaconda3/envs/condaflow/lib/python3.6/site-packages/ipykernel/zmqshell.py\", line 536, in run_cell\n    return super(ZMQInteractiveShell, self).run_cell(*args, **kwargs)\n  File \"/Users/Work/anaconda3/envs/condaflow/lib/python3.6/site-packages/IPython/core/interactiveshell.py\", line 2819, in run_cell\n    raw_cell, store_history, silent, shell_futures)\n  File \"/Users/Work/anaconda3/envs/condaflow/lib/python3.6/site-packages/IPython/core/interactiveshell.py\", line 2845, in _run_cell\n    return runner(coro)\n  File \"/Users/Work/anaconda3/envs/condaflow/lib/python3.6/site-packages/IPython/core/async_helpers.py\", line 67, in _pseudo_sync_runner\n    coro.send(None)\n  File \"/Users/Work/anaconda3/envs/condaflow/lib/python3.6/site-packages/IPython/core/interactiveshell.py\", line 3020, in run_cell_async\n    interactivity=interactivity, compiler=compiler, result=result)\n  File \"/Users/Work/anaconda3/envs/condaflow/lib/python3.6/site-packages/IPython/core/interactiveshell.py\", line 3191, in run_ast_nodes\n    if (yield from self.run_code(code, result)):\n  File \"/Users/Work/anaconda3/envs/condaflow/lib/python3.6/site-packages/IPython/core/interactiveshell.py\", line 3267, in run_code\n    exec(code_obj, self.user_global_ns, self.user_ns)\n  File \"<ipython-input-22-cabec38bc917>\", line 1, in <module>\n    GF(X)\n  File \"/Users/Work/Developer/roboGAN/generator.py\", line 24, in __call__\n    logits = tf.layers.dense(hidden2, self.output_dim, name = \"g_logits\" )\n  File \"/Users/Work/anaconda3/envs/condaflow/lib/python3.6/site-packages/tensorflow/python/util/deprecation.py\", line 324, in new_func\n    return func(*args, **kwargs)\n  File \"/Users/Work/anaconda3/envs/condaflow/lib/python3.6/site-packages/tensorflow/python/layers/core.py\", line 188, in dense\n    return layer.apply(inputs)\n  File \"/Users/Work/anaconda3/envs/condaflow/lib/python3.6/site-packages/tensorflow/python/keras/engine/base_layer.py\", line 1227, in apply\n    return self.__call__(inputs, *args, **kwargs)\n  File \"/Users/Work/anaconda3/envs/condaflow/lib/python3.6/site-packages/tensorflow/python/layers/base.py\", line 530, in __call__\n    outputs = super(Layer, self).__call__(inputs, *args, **kwargs)\n  File \"/Users/Work/anaconda3/envs/condaflow/lib/python3.6/site-packages/tensorflow/python/keras/engine/base_layer.py\", line 538, in __call__\n    self._maybe_build(inputs)\n  File \"/Users/Work/anaconda3/envs/condaflow/lib/python3.6/site-packages/tensorflow/python/keras/engine/base_layer.py\", line 1603, in _maybe_build\n    self.build(input_shapes)\n  File \"/Users/Work/anaconda3/envs/condaflow/lib/python3.6/site-packages/tensorflow/python/keras/layers/core.py\", line 958, in build\n    trainable=True)\n  File \"/Users/Work/anaconda3/envs/condaflow/lib/python3.6/site-packages/tensorflow/python/layers/base.py\", line 435, in add_weight\n    getter=vs.get_variable)\n  File \"/Users/Work/anaconda3/envs/condaflow/lib/python3.6/site-packages/tensorflow/python/keras/engine/base_layer.py\", line 349, in add_weight\n    aggregation=aggregation)\n  File \"/Users/Work/anaconda3/envs/condaflow/lib/python3.6/site-packages/tensorflow/python/training/checkpointable/base.py\", line 607, in _add_variable_with_custom_getter\n    **kwargs_for_getter)\n  File \"/Users/Work/anaconda3/envs/condaflow/lib/python3.6/site-packages/tensorflow/python/ops/variable_scope.py\", line 1479, in get_variable\n    aggregation=aggregation)\n  File \"/Users/Work/anaconda3/envs/condaflow/lib/python3.6/site-packages/tensorflow/python/ops/variable_scope.py\", line 1220, in get_variable\n    aggregation=aggregation)\n  File \"/Users/Work/anaconda3/envs/condaflow/lib/python3.6/site-packages/tensorflow/python/ops/variable_scope.py\", line 547, in get_variable\n    aggregation=aggregation)\n  File \"/Users/Work/anaconda3/envs/condaflow/lib/python3.6/site-packages/tensorflow/python/ops/variable_scope.py\", line 499, in _true_getter\n    aggregation=aggregation)\n  File \"/Users/Work/anaconda3/envs/condaflow/lib/python3.6/site-packages/tensorflow/python/ops/variable_scope.py\", line 911, in _get_single_variable\n    aggregation=aggregation)\n  File \"/Users/Work/anaconda3/envs/condaflow/lib/python3.6/site-packages/tensorflow/python/ops/variables.py\", line 213, in __call__\n    return cls._variable_v1_call(*args, **kwargs)\n  File \"/Users/Work/anaconda3/envs/condaflow/lib/python3.6/site-packages/tensorflow/python/ops/variables.py\", line 176, in _variable_v1_call\n    aggregation=aggregation)\n  File \"/Users/Work/anaconda3/envs/condaflow/lib/python3.6/site-packages/tensorflow/python/ops/variables.py\", line 155, in <lambda>\n    previous_getter = lambda **kwargs: default_variable_creator(None, **kwargs)\n  File \"/Users/Work/anaconda3/envs/condaflow/lib/python3.6/site-packages/tensorflow/python/ops/variable_scope.py\", line 2495, in default_variable_creator\n    expected_shape=expected_shape, import_scope=import_scope)\n  File \"/Users/Work/anaconda3/envs/condaflow/lib/python3.6/site-packages/tensorflow/python/ops/variables.py\", line 217, in __call__\n    return super(VariableMetaclass, cls).__call__(*args, **kwargs)\n  File \"/Users/Work/anaconda3/envs/condaflow/lib/python3.6/site-packages/tensorflow/python/ops/variables.py\", line 1395, in __init__\n    constraint=constraint)\n  File \"/Users/Work/anaconda3/envs/condaflow/lib/python3.6/site-packages/tensorflow/python/ops/variables.py\", line 1557, in _init_from_args\n    self._snapshot = array_ops.identity(self._variable, name=\"read\")\n  File \"/Users/Work/anaconda3/envs/condaflow/lib/python3.6/site-packages/tensorflow/python/util/dispatch.py\", line 180, in wrapper\n    return target(*args, **kwargs)\n  File \"/Users/Work/anaconda3/envs/condaflow/lib/python3.6/site-packages/tensorflow/python/ops/array_ops.py\", line 81, in identity\n    ret = gen_array_ops.identity(input, name=name)\n  File \"/Users/Work/anaconda3/envs/condaflow/lib/python3.6/site-packages/tensorflow/python/ops/gen_array_ops.py\", line 3890, in identity\n    \"Identity\", input=input, name=name)\n  File \"/Users/Work/anaconda3/envs/condaflow/lib/python3.6/site-packages/tensorflow/python/framework/op_def_library.py\", line 788, in _apply_op_helper\n    op_def=op_def)\n  File \"/Users/Work/anaconda3/envs/condaflow/lib/python3.6/site-packages/tensorflow/python/util/deprecation.py\", line 507, in new_func\n    return func(*args, **kwargs)\n  File \"/Users/Work/anaconda3/envs/condaflow/lib/python3.6/site-packages/tensorflow/python/framework/ops.py\", line 3300, in create_op\n    op_def=op_def)\n  File \"/Users/Work/anaconda3/envs/condaflow/lib/python3.6/site-packages/tensorflow/python/framework/ops.py\", line 1801, in __init__\n    self._traceback = tf_stack.extract_stack()\n\nFailedPreconditionError (see above for traceback): Attempting to use uninitialized value GF_pls/g_logits/bias\n\t [[node GF_pls/g_logits/bias/read (defined at /Users/Work/Developer/roboGAN/generator.py:24) ]]\n"
     ]
    }
   ],
   "source": [
    "gf = GF(X)\n",
    "sess.run([gf], feed_dict ={X:X1})"
   ]
  },
  {
   "cell_type": "code",
   "execution_count": null,
   "metadata": {},
   "outputs": [],
   "source": []
  }
 ],
 "metadata": {
  "kernelspec": {
   "display_name": "condaflow",
   "language": "python",
   "name": "condaflow"
  },
  "language_info": {
   "codemirror_mode": {
    "name": "ipython",
    "version": 3
   },
   "file_extension": ".py",
   "mimetype": "text/x-python",
   "name": "python",
   "nbconvert_exporter": "python",
   "pygments_lexer": "ipython3",
   "version": "3.6.8"
  }
 },
 "nbformat": 4,
 "nbformat_minor": 2
}
